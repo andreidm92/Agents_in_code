{
  "cells": [
    {
      "cell_type": "markdown",
      "metadata": {
        "id": "view-in-github",
        "colab_type": "text"
      },
      "source": [
        "<a href=\"https://colab.research.google.com/github/andreidm92/Agents_in_code/blob/main/practice/Lesson_6_salesbot_final_with_langgraph.ipynb\" target=\"_parent\"><img src=\"https://colab.research.google.com/assets/colab-badge.svg\" alt=\"Open In Colab\"/></a>"
      ]
    },
    {
      "cell_type": "markdown",
      "metadata": {
        "id": "ddzqQrP5-l9z"
      },
      "source": [
        "# Day 6 — Financial Analyst: Sales Prospecting Assistant (Tech-Focused)\n",
        "\n",
        "**Цель:** Построить RAG-бота для работы с PDF-презентациями и письмами по продажам.\n",
        "\n",
        "## 🔍 Что будет в ноутбуке\n",
        "- Анализ структуры PDF-файлов по продажам\n",
        "- Настройка разбиения текста (`RecursiveTextSplitter`) и векторного индекса\n",
        "- Запросы к боту и оценка релевантности ответов\n"
      ]
    },
    {
      "cell_type": "markdown",
      "metadata": {
        "id": "HQxruogu-l92"
      },
      "source": [
        "## 📁 Типы данных в продажах: зачем это важно для RAG\n",
        "- **Презентации** содержат блоки: проблема, решение, выгоды, призыв к действию (CTA)\n",
        "- **Письма** часто следуют структуре AIDA (attention → interest → desire → action)\n",
        "- Бот должен извлекать **цитаты**, **выгоды**, **рекомендации** по нужному сегменту"
      ]
    },
    {
      "cell_type": "markdown",
      "metadata": {
        "id": "8Yy4o05C-l93"
      },
      "source": [
        "## 🔧 Этапы построения RAG-бота\n",
        "1. Загрузка PDF-файлов\n",
        "2. Разбиение текста на чанки\n",
        "3. Построение индекса\n",
        "4. Ответ на вопрос → проверка: «ссылается ли бот на правильные фрагменты?»"
      ]
    },
    {
      "cell_type": "code",
      "source": [
        "!pip install llama-index"
      ],
      "metadata": {
        "colab": {
          "base_uri": "https://localhost:8080/"
        },
        "id": "DW6C0UgkBzng",
        "outputId": "8cb7e2b1-d98e-4d45-dec7-09870c1f090c"
      },
      "execution_count": 1,
      "outputs": [
        {
          "output_type": "stream",
          "name": "stdout",
          "text": [
            "Collecting llama-index\n",
            "  Downloading llama_index-0.12.37-py3-none-any.whl.metadata (12 kB)\n",
            "Collecting llama-index-agent-openai<0.5,>=0.4.0 (from llama-index)\n",
            "  Downloading llama_index_agent_openai-0.4.8-py3-none-any.whl.metadata (438 bytes)\n",
            "Collecting llama-index-cli<0.5,>=0.4.1 (from llama-index)\n",
            "  Downloading llama_index_cli-0.4.1-py3-none-any.whl.metadata (1.5 kB)\n",
            "Collecting llama-index-core<0.13,>=0.12.36 (from llama-index)\n",
            "  Downloading llama_index_core-0.12.37-py3-none-any.whl.metadata (2.4 kB)\n",
            "Collecting llama-index-embeddings-openai<0.4,>=0.3.0 (from llama-index)\n",
            "  Downloading llama_index_embeddings_openai-0.3.1-py3-none-any.whl.metadata (684 bytes)\n",
            "Collecting llama-index-indices-managed-llama-cloud>=0.4.0 (from llama-index)\n",
            "  Downloading llama_index_indices_managed_llama_cloud-0.6.11-py3-none-any.whl.metadata (3.6 kB)\n",
            "Collecting llama-index-llms-openai<0.4,>=0.3.0 (from llama-index)\n",
            "  Downloading llama_index_llms_openai-0.3.42-py3-none-any.whl.metadata (3.0 kB)\n",
            "Collecting llama-index-multi-modal-llms-openai<0.5,>=0.4.0 (from llama-index)\n",
            "  Downloading llama_index_multi_modal_llms_openai-0.4.3-py3-none-any.whl.metadata (726 bytes)\n",
            "Collecting llama-index-program-openai<0.4,>=0.3.0 (from llama-index)\n",
            "  Downloading llama_index_program_openai-0.3.1-py3-none-any.whl.metadata (764 bytes)\n",
            "Collecting llama-index-question-gen-openai<0.4,>=0.3.0 (from llama-index)\n",
            "  Downloading llama_index_question_gen_openai-0.3.0-py3-none-any.whl.metadata (783 bytes)\n",
            "Collecting llama-index-readers-file<0.5,>=0.4.0 (from llama-index)\n",
            "  Downloading llama_index_readers_file-0.4.7-py3-none-any.whl.metadata (5.4 kB)\n",
            "Collecting llama-index-readers-llama-parse>=0.4.0 (from llama-index)\n",
            "  Downloading llama_index_readers_llama_parse-0.4.0-py3-none-any.whl.metadata (3.6 kB)\n",
            "Requirement already satisfied: nltk>3.8.1 in /usr/local/lib/python3.11/dist-packages (from llama-index) (3.9.1)\n",
            "Requirement already satisfied: openai>=1.14.0 in /usr/local/lib/python3.11/dist-packages (from llama-index-agent-openai<0.5,>=0.4.0->llama-index) (1.78.1)\n",
            "Requirement already satisfied: aiohttp<4,>=3.8.6 in /usr/local/lib/python3.11/dist-packages (from llama-index-core<0.13,>=0.12.36->llama-index) (3.11.15)\n",
            "Collecting aiosqlite (from llama-index-core<0.13,>=0.12.36->llama-index)\n",
            "  Downloading aiosqlite-0.21.0-py3-none-any.whl.metadata (4.3 kB)\n",
            "Collecting banks<3,>=2.0.0 (from llama-index-core<0.13,>=0.12.36->llama-index)\n",
            "  Downloading banks-2.1.2-py3-none-any.whl.metadata (12 kB)\n",
            "Collecting dataclasses-json (from llama-index-core<0.13,>=0.12.36->llama-index)\n",
            "  Downloading dataclasses_json-0.6.7-py3-none-any.whl.metadata (25 kB)\n",
            "Collecting deprecated>=1.2.9.3 (from llama-index-core<0.13,>=0.12.36->llama-index)\n",
            "  Downloading Deprecated-1.2.18-py2.py3-none-any.whl.metadata (5.7 kB)\n",
            "Collecting dirtyjson<2,>=1.0.8 (from llama-index-core<0.13,>=0.12.36->llama-index)\n",
            "  Downloading dirtyjson-1.0.8-py3-none-any.whl.metadata (11 kB)\n",
            "Collecting filetype<2,>=1.2.0 (from llama-index-core<0.13,>=0.12.36->llama-index)\n",
            "  Downloading filetype-1.2.0-py2.py3-none-any.whl.metadata (6.5 kB)\n",
            "Requirement already satisfied: fsspec>=2023.5.0 in /usr/local/lib/python3.11/dist-packages (from llama-index-core<0.13,>=0.12.36->llama-index) (2025.3.2)\n",
            "Requirement already satisfied: httpx in /usr/local/lib/python3.11/dist-packages (from llama-index-core<0.13,>=0.12.36->llama-index) (0.28.1)\n",
            "Requirement already satisfied: nest-asyncio<2,>=1.5.8 in /usr/local/lib/python3.11/dist-packages (from llama-index-core<0.13,>=0.12.36->llama-index) (1.6.0)\n",
            "Requirement already satisfied: networkx>=3.0 in /usr/local/lib/python3.11/dist-packages (from llama-index-core<0.13,>=0.12.36->llama-index) (3.4.2)\n",
            "Requirement already satisfied: numpy in /usr/local/lib/python3.11/dist-packages (from llama-index-core<0.13,>=0.12.36->llama-index) (2.0.2)\n",
            "Requirement already satisfied: pillow>=9.0.0 in /usr/local/lib/python3.11/dist-packages (from llama-index-core<0.13,>=0.12.36->llama-index) (11.2.1)\n",
            "Requirement already satisfied: pydantic>=2.8.0 in /usr/local/lib/python3.11/dist-packages (from llama-index-core<0.13,>=0.12.36->llama-index) (2.11.4)\n",
            "Requirement already satisfied: pyyaml>=6.0.1 in /usr/local/lib/python3.11/dist-packages (from llama-index-core<0.13,>=0.12.36->llama-index) (6.0.2)\n",
            "Requirement already satisfied: requests>=2.31.0 in /usr/local/lib/python3.11/dist-packages (from llama-index-core<0.13,>=0.12.36->llama-index) (2.32.3)\n",
            "Requirement already satisfied: sqlalchemy>=1.4.49 in /usr/local/lib/python3.11/dist-packages (from sqlalchemy[asyncio]>=1.4.49->llama-index-core<0.13,>=0.12.36->llama-index) (2.0.40)\n",
            "Requirement already satisfied: tenacity!=8.4.0,<10.0.0,>=8.2.0 in /usr/local/lib/python3.11/dist-packages (from llama-index-core<0.13,>=0.12.36->llama-index) (9.1.2)\n",
            "Requirement already satisfied: tiktoken>=0.7.0 in /usr/local/lib/python3.11/dist-packages (from llama-index-core<0.13,>=0.12.36->llama-index) (0.9.0)\n",
            "Requirement already satisfied: tqdm<5,>=4.66.1 in /usr/local/lib/python3.11/dist-packages (from llama-index-core<0.13,>=0.12.36->llama-index) (4.67.1)\n",
            "Requirement already satisfied: typing-extensions>=4.5.0 in /usr/local/lib/python3.11/dist-packages (from llama-index-core<0.13,>=0.12.36->llama-index) (4.13.2)\n",
            "Collecting typing-inspect>=0.8.0 (from llama-index-core<0.13,>=0.12.36->llama-index)\n",
            "  Downloading typing_inspect-0.9.0-py3-none-any.whl.metadata (1.5 kB)\n",
            "Requirement already satisfied: wrapt in /usr/local/lib/python3.11/dist-packages (from llama-index-core<0.13,>=0.12.36->llama-index) (1.17.2)\n",
            "Collecting llama-cloud<0.2.0,>=0.1.13 (from llama-index-indices-managed-llama-cloud>=0.4.0->llama-index)\n",
            "  Downloading llama_cloud-0.1.22-py3-none-any.whl.metadata (1.2 kB)\n",
            "Requirement already satisfied: beautifulsoup4<5.0.0,>=4.12.3 in /usr/local/lib/python3.11/dist-packages (from llama-index-readers-file<0.5,>=0.4.0->llama-index) (4.13.4)\n",
            "Requirement already satisfied: pandas in /usr/local/lib/python3.11/dist-packages (from llama-index-readers-file<0.5,>=0.4.0->llama-index) (2.2.2)\n",
            "Collecting pypdf<6.0.0,>=5.1.0 (from llama-index-readers-file<0.5,>=0.4.0->llama-index)\n",
            "  Downloading pypdf-5.5.0-py3-none-any.whl.metadata (7.2 kB)\n",
            "Collecting striprtf<0.0.27,>=0.0.26 (from llama-index-readers-file<0.5,>=0.4.0->llama-index)\n",
            "  Downloading striprtf-0.0.26-py3-none-any.whl.metadata (2.1 kB)\n",
            "Collecting llama-parse>=0.5.0 (from llama-index-readers-llama-parse>=0.4.0->llama-index)\n",
            "  Downloading llama_parse-0.6.23-py3-none-any.whl.metadata (6.9 kB)\n",
            "Requirement already satisfied: click in /usr/local/lib/python3.11/dist-packages (from nltk>3.8.1->llama-index) (8.2.0)\n",
            "Requirement already satisfied: joblib in /usr/local/lib/python3.11/dist-packages (from nltk>3.8.1->llama-index) (1.5.0)\n",
            "Requirement already satisfied: regex>=2021.8.3 in /usr/local/lib/python3.11/dist-packages (from nltk>3.8.1->llama-index) (2024.11.6)\n",
            "Requirement already satisfied: aiohappyeyeballs>=2.3.0 in /usr/local/lib/python3.11/dist-packages (from aiohttp<4,>=3.8.6->llama-index-core<0.13,>=0.12.36->llama-index) (2.6.1)\n",
            "Requirement already satisfied: aiosignal>=1.1.2 in /usr/local/lib/python3.11/dist-packages (from aiohttp<4,>=3.8.6->llama-index-core<0.13,>=0.12.36->llama-index) (1.3.2)\n",
            "Requirement already satisfied: attrs>=17.3.0 in /usr/local/lib/python3.11/dist-packages (from aiohttp<4,>=3.8.6->llama-index-core<0.13,>=0.12.36->llama-index) (25.3.0)\n",
            "Requirement already satisfied: frozenlist>=1.1.1 in /usr/local/lib/python3.11/dist-packages (from aiohttp<4,>=3.8.6->llama-index-core<0.13,>=0.12.36->llama-index) (1.6.0)\n",
            "Requirement already satisfied: multidict<7.0,>=4.5 in /usr/local/lib/python3.11/dist-packages (from aiohttp<4,>=3.8.6->llama-index-core<0.13,>=0.12.36->llama-index) (6.4.3)\n",
            "Requirement already satisfied: propcache>=0.2.0 in /usr/local/lib/python3.11/dist-packages (from aiohttp<4,>=3.8.6->llama-index-core<0.13,>=0.12.36->llama-index) (0.3.1)\n",
            "Requirement already satisfied: yarl<2.0,>=1.17.0 in /usr/local/lib/python3.11/dist-packages (from aiohttp<4,>=3.8.6->llama-index-core<0.13,>=0.12.36->llama-index) (1.20.0)\n",
            "Collecting griffe (from banks<3,>=2.0.0->llama-index-core<0.13,>=0.12.36->llama-index)\n",
            "  Downloading griffe-1.7.3-py3-none-any.whl.metadata (5.0 kB)\n",
            "Requirement already satisfied: jinja2 in /usr/local/lib/python3.11/dist-packages (from banks<3,>=2.0.0->llama-index-core<0.13,>=0.12.36->llama-index) (3.1.6)\n",
            "Requirement already satisfied: platformdirs in /usr/local/lib/python3.11/dist-packages (from banks<3,>=2.0.0->llama-index-core<0.13,>=0.12.36->llama-index) (4.3.8)\n",
            "Requirement already satisfied: soupsieve>1.2 in /usr/local/lib/python3.11/dist-packages (from beautifulsoup4<5.0.0,>=4.12.3->llama-index-readers-file<0.5,>=0.4.0->llama-index) (2.7)\n",
            "Requirement already satisfied: certifi>=2024.7.4 in /usr/local/lib/python3.11/dist-packages (from llama-cloud<0.2.0,>=0.1.13->llama-index-indices-managed-llama-cloud>=0.4.0->llama-index) (2025.4.26)\n",
            "Requirement already satisfied: anyio in /usr/local/lib/python3.11/dist-packages (from httpx->llama-index-core<0.13,>=0.12.36->llama-index) (4.9.0)\n",
            "Requirement already satisfied: httpcore==1.* in /usr/local/lib/python3.11/dist-packages (from httpx->llama-index-core<0.13,>=0.12.36->llama-index) (1.0.9)\n",
            "Requirement already satisfied: idna in /usr/local/lib/python3.11/dist-packages (from httpx->llama-index-core<0.13,>=0.12.36->llama-index) (3.10)\n",
            "Requirement already satisfied: h11>=0.16 in /usr/local/lib/python3.11/dist-packages (from httpcore==1.*->httpx->llama-index-core<0.13,>=0.12.36->llama-index) (0.16.0)\n",
            "Collecting llama-cloud-services>=0.6.23 (from llama-parse>=0.5.0->llama-index-readers-llama-parse>=0.4.0->llama-index)\n",
            "  Downloading llama_cloud_services-0.6.23-py3-none-any.whl.metadata (3.4 kB)\n",
            "Requirement already satisfied: distro<2,>=1.7.0 in /usr/local/lib/python3.11/dist-packages (from openai>=1.14.0->llama-index-agent-openai<0.5,>=0.4.0->llama-index) (1.9.0)\n",
            "Requirement already satisfied: jiter<1,>=0.4.0 in /usr/local/lib/python3.11/dist-packages (from openai>=1.14.0->llama-index-agent-openai<0.5,>=0.4.0->llama-index) (0.9.0)\n",
            "Requirement already satisfied: sniffio in /usr/local/lib/python3.11/dist-packages (from openai>=1.14.0->llama-index-agent-openai<0.5,>=0.4.0->llama-index) (1.3.1)\n",
            "Requirement already satisfied: annotated-types>=0.6.0 in /usr/local/lib/python3.11/dist-packages (from pydantic>=2.8.0->llama-index-core<0.13,>=0.12.36->llama-index) (0.7.0)\n",
            "Requirement already satisfied: pydantic-core==2.33.2 in /usr/local/lib/python3.11/dist-packages (from pydantic>=2.8.0->llama-index-core<0.13,>=0.12.36->llama-index) (2.33.2)\n",
            "Requirement already satisfied: typing-inspection>=0.4.0 in /usr/local/lib/python3.11/dist-packages (from pydantic>=2.8.0->llama-index-core<0.13,>=0.12.36->llama-index) (0.4.0)\n",
            "Requirement already satisfied: charset-normalizer<4,>=2 in /usr/local/lib/python3.11/dist-packages (from requests>=2.31.0->llama-index-core<0.13,>=0.12.36->llama-index) (3.4.2)\n",
            "Requirement already satisfied: urllib3<3,>=1.21.1 in /usr/local/lib/python3.11/dist-packages (from requests>=2.31.0->llama-index-core<0.13,>=0.12.36->llama-index) (2.4.0)\n",
            "Requirement already satisfied: greenlet>=1 in /usr/local/lib/python3.11/dist-packages (from sqlalchemy>=1.4.49->sqlalchemy[asyncio]>=1.4.49->llama-index-core<0.13,>=0.12.36->llama-index) (3.2.2)\n",
            "Collecting mypy-extensions>=0.3.0 (from typing-inspect>=0.8.0->llama-index-core<0.13,>=0.12.36->llama-index)\n",
            "  Downloading mypy_extensions-1.1.0-py3-none-any.whl.metadata (1.1 kB)\n",
            "Collecting marshmallow<4.0.0,>=3.18.0 (from dataclasses-json->llama-index-core<0.13,>=0.12.36->llama-index)\n",
            "  Downloading marshmallow-3.26.1-py3-none-any.whl.metadata (7.3 kB)\n",
            "Requirement already satisfied: python-dateutil>=2.8.2 in /usr/local/lib/python3.11/dist-packages (from pandas->llama-index-readers-file<0.5,>=0.4.0->llama-index) (2.9.0.post0)\n",
            "Requirement already satisfied: pytz>=2020.1 in /usr/local/lib/python3.11/dist-packages (from pandas->llama-index-readers-file<0.5,>=0.4.0->llama-index) (2025.2)\n",
            "Requirement already satisfied: tzdata>=2022.7 in /usr/local/lib/python3.11/dist-packages (from pandas->llama-index-readers-file<0.5,>=0.4.0->llama-index) (2025.2)\n",
            "Collecting python-dotenv<2.0.0,>=1.0.1 (from llama-cloud-services>=0.6.23->llama-parse>=0.5.0->llama-index-readers-llama-parse>=0.4.0->llama-index)\n",
            "  Downloading python_dotenv-1.1.0-py3-none-any.whl.metadata (24 kB)\n",
            "Requirement already satisfied: packaging>=17.0 in /usr/local/lib/python3.11/dist-packages (from marshmallow<4.0.0,>=3.18.0->dataclasses-json->llama-index-core<0.13,>=0.12.36->llama-index) (24.2)\n",
            "Requirement already satisfied: six>=1.5 in /usr/local/lib/python3.11/dist-packages (from python-dateutil>=2.8.2->pandas->llama-index-readers-file<0.5,>=0.4.0->llama-index) (1.17.0)\n",
            "Collecting colorama>=0.4 (from griffe->banks<3,>=2.0.0->llama-index-core<0.13,>=0.12.36->llama-index)\n",
            "  Downloading colorama-0.4.6-py2.py3-none-any.whl.metadata (17 kB)\n",
            "Requirement already satisfied: MarkupSafe>=2.0 in /usr/local/lib/python3.11/dist-packages (from jinja2->banks<3,>=2.0.0->llama-index-core<0.13,>=0.12.36->llama-index) (3.0.2)\n",
            "Downloading llama_index-0.12.37-py3-none-any.whl (7.1 kB)\n",
            "Downloading llama_index_agent_openai-0.4.8-py3-none-any.whl (14 kB)\n",
            "Downloading llama_index_cli-0.4.1-py3-none-any.whl (28 kB)\n",
            "Downloading llama_index_core-0.12.37-py3-none-any.whl (7.7 MB)\n",
            "\u001b[2K   \u001b[90m━━━━━━━━━━━━━━━━━━━━━━━━━━━━━━━━━━━━━━━━\u001b[0m \u001b[32m7.7/7.7 MB\u001b[0m \u001b[31m48.7 MB/s\u001b[0m eta \u001b[36m0:00:00\u001b[0m\n",
            "\u001b[?25hDownloading llama_index_embeddings_openai-0.3.1-py3-none-any.whl (6.2 kB)\n",
            "Downloading llama_index_indices_managed_llama_cloud-0.6.11-py3-none-any.whl (14 kB)\n",
            "Downloading llama_index_llms_openai-0.3.42-py3-none-any.whl (23 kB)\n",
            "Downloading llama_index_multi_modal_llms_openai-0.4.3-py3-none-any.whl (5.9 kB)\n",
            "Downloading llama_index_program_openai-0.3.1-py3-none-any.whl (5.3 kB)\n",
            "Downloading llama_index_question_gen_openai-0.3.0-py3-none-any.whl (2.9 kB)\n",
            "Downloading llama_index_readers_file-0.4.7-py3-none-any.whl (40 kB)\n",
            "\u001b[2K   \u001b[90m━━━━━━━━━━━━━━━━━━━━━━━━━━━━━━━━━━━━━━━━\u001b[0m \u001b[32m40.8/40.8 kB\u001b[0m \u001b[31m2.8 MB/s\u001b[0m eta \u001b[36m0:00:00\u001b[0m\n",
            "\u001b[?25hDownloading llama_index_readers_llama_parse-0.4.0-py3-none-any.whl (2.5 kB)\n",
            "Downloading banks-2.1.2-py3-none-any.whl (28 kB)\n",
            "Downloading Deprecated-1.2.18-py2.py3-none-any.whl (10.0 kB)\n",
            "Downloading dirtyjson-1.0.8-py3-none-any.whl (25 kB)\n",
            "Downloading filetype-1.2.0-py2.py3-none-any.whl (19 kB)\n",
            "Downloading llama_cloud-0.1.22-py3-none-any.whl (265 kB)\n",
            "\u001b[2K   \u001b[90m━━━━━━━━━━━━━━━━━━━━━━━━━━━━━━━━━━━━━━━━\u001b[0m \u001b[32m265.9/265.9 kB\u001b[0m \u001b[31m17.0 MB/s\u001b[0m eta \u001b[36m0:00:00\u001b[0m\n",
            "\u001b[?25hDownloading llama_parse-0.6.23-py3-none-any.whl (4.9 kB)\n",
            "Downloading pypdf-5.5.0-py3-none-any.whl (303 kB)\n",
            "\u001b[2K   \u001b[90m━━━━━━━━━━━━━━━━━━━━━━━━━━━━━━━━━━━━━━━━\u001b[0m \u001b[32m303.4/303.4 kB\u001b[0m \u001b[31m19.2 MB/s\u001b[0m eta \u001b[36m0:00:00\u001b[0m\n",
            "\u001b[?25hDownloading striprtf-0.0.26-py3-none-any.whl (6.9 kB)\n",
            "Downloading typing_inspect-0.9.0-py3-none-any.whl (8.8 kB)\n",
            "Downloading aiosqlite-0.21.0-py3-none-any.whl (15 kB)\n",
            "Downloading dataclasses_json-0.6.7-py3-none-any.whl (28 kB)\n",
            "Downloading llama_cloud_services-0.6.23-py3-none-any.whl (37 kB)\n",
            "Downloading marshmallow-3.26.1-py3-none-any.whl (50 kB)\n",
            "\u001b[2K   \u001b[90m━━━━━━━━━━━━━━━━━━━━━━━━━━━━━━━━━━━━━━━━\u001b[0m \u001b[32m50.9/50.9 kB\u001b[0m \u001b[31m3.8 MB/s\u001b[0m eta \u001b[36m0:00:00\u001b[0m\n",
            "\u001b[?25hDownloading mypy_extensions-1.1.0-py3-none-any.whl (5.0 kB)\n",
            "Downloading griffe-1.7.3-py3-none-any.whl (129 kB)\n",
            "\u001b[2K   \u001b[90m━━━━━━━━━━━━━━━━━━━━━━━━━━━━━━━━━━━━━━━━\u001b[0m \u001b[32m129.3/129.3 kB\u001b[0m \u001b[31m9.1 MB/s\u001b[0m eta \u001b[36m0:00:00\u001b[0m\n",
            "\u001b[?25hDownloading colorama-0.4.6-py2.py3-none-any.whl (25 kB)\n",
            "Downloading python_dotenv-1.1.0-py3-none-any.whl (20 kB)\n",
            "Installing collected packages: striprtf, filetype, dirtyjson, python-dotenv, pypdf, mypy-extensions, marshmallow, deprecated, colorama, aiosqlite, typing-inspect, griffe, llama-cloud, dataclasses-json, banks, llama-index-core, llama-index-readers-file, llama-index-llms-openai, llama-index-indices-managed-llama-cloud, llama-index-embeddings-openai, llama-cloud-services, llama-parse, llama-index-multi-modal-llms-openai, llama-index-cli, llama-index-agent-openai, llama-index-readers-llama-parse, llama-index-program-openai, llama-index-question-gen-openai, llama-index\n",
            "Successfully installed aiosqlite-0.21.0 banks-2.1.2 colorama-0.4.6 dataclasses-json-0.6.7 deprecated-1.2.18 dirtyjson-1.0.8 filetype-1.2.0 griffe-1.7.3 llama-cloud-0.1.22 llama-cloud-services-0.6.23 llama-index-0.12.37 llama-index-agent-openai-0.4.8 llama-index-cli-0.4.1 llama-index-core-0.12.37 llama-index-embeddings-openai-0.3.1 llama-index-indices-managed-llama-cloud-0.6.11 llama-index-llms-openai-0.3.42 llama-index-multi-modal-llms-openai-0.4.3 llama-index-program-openai-0.3.1 llama-index-question-gen-openai-0.3.0 llama-index-readers-file-0.4.7 llama-index-readers-llama-parse-0.4.0 llama-parse-0.6.23 marshmallow-3.26.1 mypy-extensions-1.1.0 pypdf-5.5.0 python-dotenv-1.1.0 striprtf-0.0.26 typing-inspect-0.9.0\n"
          ]
        }
      ]
    },
    {
      "cell_type": "code",
      "execution_count": 13,
      "metadata": {
        "id": "D8DTRlJZ-l94"
      },
      "outputs": [],
      "source": [
        "# Импорты\n",
        "from llama_index.core import SimpleDirectoryReader, VectorStoreIndex\n",
        "from llama_index.core.node_parser import SentenceSplitter\n",
        "from IPython.display import Markdown"
      ]
    },
    {
      "cell_type": "code",
      "source": [
        "import os, getpass\n",
        "os.environ[\"OPENAI_API_KEY\"] = getpass.getpass(\"Вставь OpenAI API ключ: \")"
      ],
      "metadata": {
        "colab": {
          "base_uri": "https://localhost:8080/"
        },
        "id": "1ZRf8jJfBYQ5",
        "outputId": "bd9307f6-5ca9-4240-8a0c-7c77ff6963ce"
      },
      "execution_count": 14,
      "outputs": [
        {
          "name": "stdout",
          "output_type": "stream",
          "text": [
            "Вставь OpenAI API ключ: ··········\n"
          ]
        }
      ]
    },
    {
      "cell_type": "code",
      "execution_count": 15,
      "metadata": {
        "id": "GXYhzm4W-l95"
      },
      "outputs": [],
      "source": [
        "# Загрузка PDF-документов из папки 'data'\n",
        "docs = SimpleDirectoryReader(\"data\").load_data()"
      ]
    },
    {
      "cell_type": "markdown",
      "source": [
        "🧰 Что делает SentenceSplitter:\n",
        "Разбивает текст на логические чанки (блоки по ~500–1000 токенов)\n",
        "\n",
        "Делает это рекурсивно по структуре текста: сначала по параграфам → потом по предложениям → потом по словам\n",
        "\n",
        "Поддерживает overlap (перекрытие), чтобы сохранить контекст между фрагментами\n",
        "\n",
        "🎯 Зачем это важно:\n",
        "Каждый чанк становится отдельным Node в LlamaIndex\n",
        "\n",
        "Векторное представление (embeddings) создаётся по каждому чанку отдельно\n",
        "\n",
        "При запросе бот находит наиболее релевантные чанки, а не весь документ\n",
        "\n",
        "🔹 Если не использовать сплиттер — будет либо 1 гигантский вектор (бесполезно), либо потеря логики в обрывках текста."
      ],
      "metadata": {
        "id": "09d9HeegCzUW"
      }
    },
    {
      "cell_type": "code",
      "execution_count": 16,
      "metadata": {
        "id": "LnS_9mqj-l95"
      },
      "outputs": [],
      "source": [
        "# ✅ Разбиение на чанки (Nodes)\n",
        "splitter = SentenceSplitter(chunk_size=512, chunk_overlap=64)\n",
        "nodes = splitter.get_nodes_from_documents(docs)"
      ]
    },
    {
      "cell_type": "markdown",
      "source": [
        "📦 Document\n",
        "\n",
        "Это исходный файл или текст, который ты загружаешь (PDF, DOCX, письмо, страница сайта и т.д.)\n",
        "\n",
        "docs = SimpleDirectoryReader(\"data\").load_data()  # -> List[Document]\n",
        "🧠 В нём может быть:\n",
        "\n",
        "один большой блок текста\n",
        "\n",
        "метаданные (название файла, дата, категория и т.п.)\n",
        "\n",
        "может весить тысячи токенов\n",
        "\n",
        "🧩 Node\n",
        "\n",
        "Это фрагмент документа — результат разбиения (splitter), который уже готов к векторизации и поиску.\n",
        "\n",
        "splitter = SentenceSplitter(chunk_size=512)\n",
        "nodes = splitter.get_nodes_from_documents(docs)  # -> List[TextNode]\n",
        "\n",
        "Каждый Node:\n",
        "\n",
        "содержит небольшой кусок текста (чанк)\n",
        "\n",
        "знает, из какого документа он пришёл\n",
        "\n",
        "может иметь собственные метаданные, ID, позиции и т.д.\n",
        "\n",
        "🧠 Запомни правило:\n",
        "\n",
        "Document → это \"сырой текст\"\n",
        "\n",
        "Node → это \"боевой юнит\" для RAG\n",
        "\n",
        "Нужно построить индекс? ➝ Работай с Node."
      ],
      "metadata": {
        "id": "M8EjF9VhIscp"
      }
    },
    {
      "cell_type": "code",
      "execution_count": 17,
      "metadata": {
        "id": "NWKzFDJa-l95"
      },
      "outputs": [],
      "source": [
        "# ✅ Построение индекса и движка запросов\n",
        "index = VectorStoreIndex(nodes)\n",
        "engine = index.as_query_engine()"
      ]
    },
    {
      "cell_type": "code",
      "execution_count": 19,
      "metadata": {
        "colab": {
          "base_uri": "https://localhost:8080/",
          "height": 81
        },
        "id": "Cjk50aMe-l96",
        "outputId": "5692ac7d-40f2-45d3-8cc0-99bb9a94cf27"
      },
      "outputs": [
        {
          "output_type": "execute_result",
          "data": {
            "text/plain": [
              "<IPython.core.display.Markdown object>"
            ],
            "text/markdown": "To quantify the issue, integrate compelling data points that validate the challenges faced by your prospects. This data not only substantiates the problem but also places it within a broader context, potentially underscoring the urgency of addressing the issue. By effectively communicating the significance of the problem and the potential repercussions of ignoring it, you can emphasize the need for a prompt and effective solution."
          },
          "metadata": {},
          "execution_count": 19
        }
      ],
      "source": [
        "# ✅ Пример запроса\n",
        "response = engine.query(\"How to quantify the Issue?\")\n",
        "Markdown(response.response)"
      ]
    },
    {
      "cell_type": "markdown",
      "metadata": {
        "id": "wUBbz2km-l96"
      },
      "source": [
        "# Пример запроса\n",
        "response = engine.query(\"Что можно предложить потенциальному клиенту на этапе первого контакта?\")\n",
        "Markdown(response.response)"
      ]
    },
    {
      "cell_type": "code",
      "execution_count": 21,
      "metadata": {
        "colab": {
          "base_uri": "https://localhost:8080/"
        },
        "id": "ObvLEdve-l96",
        "outputId": "d1fc0180-0e68-46ef-bb00-2db8f58847e7"
      },
      "outputs": [
        {
          "output_type": "stream",
          "name": "stdout",
          "text": [
            "4\n",
            "hi [first name],\n",
            "i enjoyed our call today, and i hope you \n",
            "did too. here are the top value adds we \n",
            "went over: \n",
            "next steps: \n",
            "i’ll [next step] so we can proceed to \n",
            "[shared goal].\n",
            "@[first name]: you mentioned \n",
            "needing to check [item], would it be \n",
            "possible to do so before [next step] \n",
            "so i can show \n",
            "---\n",
            "6\n",
            "6. multi-threading: looping the decision \n",
            "maker back in\n",
            "hi [first name],\n",
            "as an update, the team feedback has \n",
            "been very positive and we’ve surfaced \n",
            "great use cases and potential results.\n",
            "we’re now preparing for an executive \n",
            "presentation, and we’d like to loop \n",
            "you in with you to showcase the \n",
            "in \n",
            "---\n",
            "7\n",
            "hi [first name],\n",
            "curious if i could put some time on \n",
            "your calendar ahead of our executive \n",
            "presentation on [date/time]?\n",
            "want to make sure we’re addressing all \n",
            "stakeholders in the call and surfacing \n",
            "any concerns the team has ahead of \n",
            "[next step for buyers].\n",
            "does [date/time] work?\n",
            "- [your name]\n",
            " \n",
            "---\n",
            "8\n",
            "hi [first name],\n",
            "totally get where you’re coming from.\n",
            "let’s hop on a quick call to align \n",
            "pricing with your budget plus answer \n",
            "any questions. i’m sure we can knock \n",
            "this out in 9 minutes tops.\n",
            "does [date/time] work?\n",
            "- [your name]\n",
            "8. negotiation\n",
            "why it works\n",
            "validate the objection \n",
            "do not apologi \n",
            "---\n",
            "comparative statistics that highlight the performance gap betweencompanies addressing similar challenges and those that aren't.\n",
            "industry benchmarks or averages that your prospect's issue deviatesfrom, illustrating the potential for improvement.\n",
            "trend data showing the evolution of this problem over t \n",
            "---\n",
            "slide four, serves as the grand unveiling of your product and company,intricately weaving them into the ongoing narrative.\n",
            "after showcasing a vision of a brighter future, now pivot to delineatehow your product's features are pivotal to realising this new reality.this can be accomplished through:\n",
            "con \n",
            "---\n"
          ]
        }
      ],
      "source": [
        "for node in nodes:\n",
        "    text = node.get_content().lower()\n",
        "    if any(kw.lower() in text for kw in [\n",
        "        \"comparative statistics\",\n",
        "        \"framing your product's capabilities\",\n",
        "        \"personalize your email\",\n",
        "        \"use a specific cta\"\n",
        "    ]):\n",
        "        print(text[:300], \"\\n---\")"
      ]
    },
    {
      "cell_type": "markdown",
      "metadata": {
        "id": "oeybY3wN-l96"
      },
      "source": [
        "## 🧪 Практика 2: Сравнение ответов\n",
        "Запустим серию запросов для разных документов и посмотрим, какие фрагменты выбирает бот."
      ]
    },
    {
      "cell_type": "code",
      "execution_count": 23,
      "metadata": {
        "colab": {
          "base_uri": "https://localhost:8080/"
        },
        "id": "TvTPNwhf-l97",
        "outputId": "fec3e3cf-65c7-4c43-da91-a5239cdfffcd"
      },
      "outputs": [
        {
          "output_type": "stream",
          "name": "stdout",
          "text": [
            "🧠 Запрос: How to close a deal?\n",
            "To close a deal effectively, it is crucial to only send your proposal after scheduling a call to walk through it with your buyers. This allows you to control the conversation, understand how your proposal is being received, and identify any potential hurdles. Additionally, take control of the next steps by gathering as much information as possible to address any concerns and ensure a smooth closing process. Proceed with caution during this crucial step to avoid jeopardizing the deal after putting in significant effort. \n",
            "\n",
            "🧠 Запрос: In what cases it is suitable to follow up email ?\n",
            "It is suitable to follow up with an email when you want to keep the message simple, provide useful insights even if the recipient doesn't buy from you, tell a story that resonates with the prospect's experience, and include a specific interest call-to-action to continue the conversation. \n",
            "\n",
            "🧠 Запрос: How to show benefits of your product to customer?\n",
            "Showcasing testimonials from satisfied customers who have experienced the benefits firsthand, presenting compelling statistics that underscore the effectiveness and efficiency of your product, and offering a comparative analysis of the market to highlight how your product differentiates itself from competitors are effective ways to demonstrate the benefits of your product to customers. Additionally, illustrating tangible benefits through detailed case studies and testimonials that showcase real-world applications and specific instances where your product significantly improved efficiency, profitability, or customer satisfaction can offer a compelling narrative of transformation and success. \n",
            "\n"
          ]
        }
      ],
      "source": [
        "# TODO: Несколько запросов\n",
        "queries = [\n",
        "    \"How to close a deal?\",\n",
        "    \"In what cases it is suitable to follow up email ?\",\n",
        "    \"How to show benefits of your product to customer?\"\n",
        "]\n",
        "for q in queries:\n",
        "    print(f\"🧠 Запрос: {q}\")\n",
        "    print(engine.query(q).response, \"\\n\")"
      ]
    },
    {
      "cell_type": "markdown",
      "source": [
        "🧠 Зачем это нужно:\n",
        "\n",
        "Ты строишь бота для продаж, и хочешь:\n",
        "\n",
        "автоматом находить в презентациях и письмах фразы о выгодах\n",
        "\n",
        "передавать их команде → например, в виде таблицы для CRM или маркетолога\n",
        "\n",
        "📌 Это и делает этот экспорт: выделяет “выгоды” → сохраняет в таблицу."
      ],
      "metadata": {
        "id": "MRJTvEt2U-GO"
      }
    },
    {
      "cell_type": "code",
      "execution_count": 24,
      "metadata": {
        "id": "tnsFQiDN-l97"
      },
      "outputs": [],
      "source": [
        "# TODO: Экспорт в CSV\n",
        "import pandas as pd\n",
        "\n",
        "relevant = [\n",
        "    node.get_content()\n",
        "    for node in nodes\n",
        "    if \"выгода\" in node.get_content().lower()\n",
        "]\n",
        "\n",
        "df = pd.DataFrame(relevant, columns=[\"Fragment\"])\n",
        "df.to_csv(\"extracted_sales_benefits.csv\", index=False)\n"
      ]
    },
    {
      "cell_type": "markdown",
      "metadata": {
        "id": "STRr799D-l97"
      },
      "source": [
        "# 🔁 Part 2: LangGraph Loop для уточнения запроса\n",
        "\n",
        "**Цель:** если ответ короткий или нерелевантный, повторно задать вопрос — уточнённо.\n",
        "Используем LangGraph для построения простого цикла на 2 узла:\n",
        "- `query_node`: делает запрос\n",
        "- `refine_node`: проверяет длину → при необходимости переформулирует"
      ]
    },
    {
      "cell_type": "code",
      "source": [
        "!pip install langgraph"
      ],
      "metadata": {
        "colab": {
          "base_uri": "https://localhost:8080/"
        },
        "id": "nX8L4nkZYa7e",
        "outputId": "7d13d438-a8a5-4b97-d7ed-44ecfd3bfd9f"
      },
      "execution_count": 26,
      "outputs": [
        {
          "output_type": "stream",
          "name": "stdout",
          "text": [
            "Collecting langgraph\n",
            "  Downloading langgraph-0.4.5-py3-none-any.whl.metadata (7.3 kB)\n",
            "Requirement already satisfied: langchain-core>=0.1 in /usr/local/lib/python3.11/dist-packages (from langgraph) (0.3.59)\n",
            "Collecting langgraph-checkpoint<3.0.0,>=2.0.26 (from langgraph)\n",
            "  Downloading langgraph_checkpoint-2.0.26-py3-none-any.whl.metadata (4.6 kB)\n",
            "Collecting langgraph-prebuilt>=0.1.8 (from langgraph)\n",
            "  Downloading langgraph_prebuilt-0.1.8-py3-none-any.whl.metadata (5.0 kB)\n",
            "Collecting langgraph-sdk>=0.1.42 (from langgraph)\n",
            "  Downloading langgraph_sdk-0.1.69-py3-none-any.whl.metadata (1.8 kB)\n",
            "Requirement already satisfied: pydantic>=2.7.4 in /usr/local/lib/python3.11/dist-packages (from langgraph) (2.11.4)\n",
            "Requirement already satisfied: xxhash<4.0.0,>=3.5.0 in /usr/local/lib/python3.11/dist-packages (from langgraph) (3.5.0)\n",
            "Requirement already satisfied: langsmith<0.4,>=0.1.125 in /usr/local/lib/python3.11/dist-packages (from langchain-core>=0.1->langgraph) (0.3.42)\n",
            "Requirement already satisfied: tenacity!=8.4.0,<10.0.0,>=8.1.0 in /usr/local/lib/python3.11/dist-packages (from langchain-core>=0.1->langgraph) (9.1.2)\n",
            "Requirement already satisfied: jsonpatch<2.0,>=1.33 in /usr/local/lib/python3.11/dist-packages (from langchain-core>=0.1->langgraph) (1.33)\n",
            "Requirement already satisfied: PyYAML>=5.3 in /usr/local/lib/python3.11/dist-packages (from langchain-core>=0.1->langgraph) (6.0.2)\n",
            "Requirement already satisfied: packaging<25,>=23.2 in /usr/local/lib/python3.11/dist-packages (from langchain-core>=0.1->langgraph) (24.2)\n",
            "Requirement already satisfied: typing-extensions>=4.7 in /usr/local/lib/python3.11/dist-packages (from langchain-core>=0.1->langgraph) (4.13.2)\n",
            "Collecting ormsgpack<2.0.0,>=1.8.0 (from langgraph-checkpoint<3.0.0,>=2.0.26->langgraph)\n",
            "  Downloading ormsgpack-1.9.1-cp311-cp311-manylinux_2_17_x86_64.manylinux2014_x86_64.whl.metadata (43 kB)\n",
            "\u001b[2K     \u001b[90m━━━━━━━━━━━━━━━━━━━━━━━━━━━━━━━━━━━━━━━━\u001b[0m \u001b[32m43.5/43.5 kB\u001b[0m \u001b[31m1.9 MB/s\u001b[0m eta \u001b[36m0:00:00\u001b[0m\n",
            "\u001b[?25hRequirement already satisfied: httpx>=0.25.2 in /usr/local/lib/python3.11/dist-packages (from langgraph-sdk>=0.1.42->langgraph) (0.28.1)\n",
            "Requirement already satisfied: orjson>=3.10.1 in /usr/local/lib/python3.11/dist-packages (from langgraph-sdk>=0.1.42->langgraph) (3.10.18)\n",
            "Requirement already satisfied: annotated-types>=0.6.0 in /usr/local/lib/python3.11/dist-packages (from pydantic>=2.7.4->langgraph) (0.7.0)\n",
            "Requirement already satisfied: pydantic-core==2.33.2 in /usr/local/lib/python3.11/dist-packages (from pydantic>=2.7.4->langgraph) (2.33.2)\n",
            "Requirement already satisfied: typing-inspection>=0.4.0 in /usr/local/lib/python3.11/dist-packages (from pydantic>=2.7.4->langgraph) (0.4.0)\n",
            "Requirement already satisfied: anyio in /usr/local/lib/python3.11/dist-packages (from httpx>=0.25.2->langgraph-sdk>=0.1.42->langgraph) (4.9.0)\n",
            "Requirement already satisfied: certifi in /usr/local/lib/python3.11/dist-packages (from httpx>=0.25.2->langgraph-sdk>=0.1.42->langgraph) (2025.4.26)\n",
            "Requirement already satisfied: httpcore==1.* in /usr/local/lib/python3.11/dist-packages (from httpx>=0.25.2->langgraph-sdk>=0.1.42->langgraph) (1.0.9)\n",
            "Requirement already satisfied: idna in /usr/local/lib/python3.11/dist-packages (from httpx>=0.25.2->langgraph-sdk>=0.1.42->langgraph) (3.10)\n",
            "Requirement already satisfied: h11>=0.16 in /usr/local/lib/python3.11/dist-packages (from httpcore==1.*->httpx>=0.25.2->langgraph-sdk>=0.1.42->langgraph) (0.16.0)\n",
            "Requirement already satisfied: jsonpointer>=1.9 in /usr/local/lib/python3.11/dist-packages (from jsonpatch<2.0,>=1.33->langchain-core>=0.1->langgraph) (3.0.0)\n",
            "Requirement already satisfied: requests<3,>=2 in /usr/local/lib/python3.11/dist-packages (from langsmith<0.4,>=0.1.125->langchain-core>=0.1->langgraph) (2.32.3)\n",
            "Requirement already satisfied: requests-toolbelt<2.0.0,>=1.0.0 in /usr/local/lib/python3.11/dist-packages (from langsmith<0.4,>=0.1.125->langchain-core>=0.1->langgraph) (1.0.0)\n",
            "Requirement already satisfied: zstandard<0.24.0,>=0.23.0 in /usr/local/lib/python3.11/dist-packages (from langsmith<0.4,>=0.1.125->langchain-core>=0.1->langgraph) (0.23.0)\n",
            "Requirement already satisfied: charset-normalizer<4,>=2 in /usr/local/lib/python3.11/dist-packages (from requests<3,>=2->langsmith<0.4,>=0.1.125->langchain-core>=0.1->langgraph) (3.4.2)\n",
            "Requirement already satisfied: urllib3<3,>=1.21.1 in /usr/local/lib/python3.11/dist-packages (from requests<3,>=2->langsmith<0.4,>=0.1.125->langchain-core>=0.1->langgraph) (2.4.0)\n",
            "Requirement already satisfied: sniffio>=1.1 in /usr/local/lib/python3.11/dist-packages (from anyio->httpx>=0.25.2->langgraph-sdk>=0.1.42->langgraph) (1.3.1)\n",
            "Downloading langgraph-0.4.5-py3-none-any.whl (155 kB)\n",
            "\u001b[2K   \u001b[90m━━━━━━━━━━━━━━━━━━━━━━━━━━━━━━━━━━━━━━━━\u001b[0m \u001b[32m155.3/155.3 kB\u001b[0m \u001b[31m5.6 MB/s\u001b[0m eta \u001b[36m0:00:00\u001b[0m\n",
            "\u001b[?25hDownloading langgraph_checkpoint-2.0.26-py3-none-any.whl (44 kB)\n",
            "\u001b[2K   \u001b[90m━━━━━━━━━━━━━━━━━━━━━━━━━━━━━━━━━━━━━━━━\u001b[0m \u001b[32m44.2/44.2 kB\u001b[0m \u001b[31m2.2 MB/s\u001b[0m eta \u001b[36m0:00:00\u001b[0m\n",
            "\u001b[?25hDownloading langgraph_prebuilt-0.1.8-py3-none-any.whl (25 kB)\n",
            "Downloading langgraph_sdk-0.1.69-py3-none-any.whl (48 kB)\n",
            "\u001b[2K   \u001b[90m━━━━━━━━━━━━━━━━━━━━━━━━━━━━━━━━━━━━━━━━\u001b[0m \u001b[32m48.9/48.9 kB\u001b[0m \u001b[31m2.5 MB/s\u001b[0m eta \u001b[36m0:00:00\u001b[0m\n",
            "\u001b[?25hDownloading ormsgpack-1.9.1-cp311-cp311-manylinux_2_17_x86_64.manylinux2014_x86_64.whl (223 kB)\n",
            "\u001b[2K   \u001b[90m━━━━━━━━━━━━━━━━━━━━━━━━━━━━━━━━━━━━━━━━\u001b[0m \u001b[32m223.6/223.6 kB\u001b[0m \u001b[31m11.4 MB/s\u001b[0m eta \u001b[36m0:00:00\u001b[0m\n",
            "\u001b[?25hInstalling collected packages: ormsgpack, langgraph-sdk, langgraph-checkpoint, langgraph-prebuilt, langgraph\n",
            "Successfully installed langgraph-0.4.5 langgraph-checkpoint-2.0.26 langgraph-prebuilt-0.1.8 langgraph-sdk-0.1.69 ormsgpack-1.9.1\n"
          ]
        }
      ]
    },
    {
      "cell_type": "code",
      "execution_count": 31,
      "metadata": {
        "id": "L6-1TS5U-l97"
      },
      "outputs": [],
      "source": [
        "from langgraph.graph import StateGraph\n",
        "from typing import TypedDict\n",
        "from langchain.schema import BaseMessage\n",
        "\n",
        "# Структура состояния\n",
        "class State(TypedDict):\n",
        "    question: str\n",
        "    history: list[str]\n",
        "    last_answer: str\n",
        "\n",
        "# Узел 1 — делает запрос\n",
        "def query_node(state: State) -> State:\n",
        "    answer = engine.query(state[\"question\"]).response.strip()\n",
        "    state[\"history\"].append(answer)\n",
        "    state[\"last_answer\"] = answer\n",
        "    return state\n",
        "\n",
        "# Узел 2 — проверяет длину ответа\n",
        "def refine_node(state: State) -> str:\n",
        "    if len(state[\"last_answer\"].split()) < 20:\n",
        "        state[\"question\"] = f\"Попробуй точнее: {state['question']}\"\n",
        "        return \"query\"\n",
        "    return \"end\"\n",
        "\n",
        "# Добавим фиктивный end-узел\n",
        "def end_node(state: State) -> State:\n",
        "    return state  # просто возвращает финальное состояние\n",
        "\n"
      ]
    },
    {
      "cell_type": "markdown",
      "source": [
        "📌 В LangGraph ты должен добавить все узлы, даже \"end\". Он не создаётся автоматически.\n",
        "\n"
      ],
      "metadata": {
        "id": "mRcSKoVDafK6"
      }
    },
    {
      "cell_type": "code",
      "execution_count": 33,
      "metadata": {
        "colab": {
          "base_uri": "https://localhost:8080/"
        },
        "id": "ggTlmS5U-l98",
        "outputId": "0597f92d-838e-4e89-d6cd-032699be1ad7"
      },
      "outputs": [
        {
          "output_type": "stream",
          "name": "stdout",
          "text": [
            "🔁 История итераций:\n",
            "\n",
            "1) Offer testimonials from satisfied customers, present compelling statistics showcasing product effectiveness, provide a comparative analysis of the market to highlight product differentiation, include case studies or success stories illustrating impact on similar businesses, discuss industry benchmarks, and demonstrate how the product helps clients exceed standards. Additionally, highlight specific, quantifiable improvements that the client can expect upon integrating the product, offer predictions on improvement degrees for key performance indicators, and provide a realistic timeline for when these benefits are likely to manifest.\n",
            "\n"
          ]
        }
      ],
      "source": [
        "# Сборка графа\n",
        "graph = StateGraph(State)\n",
        "graph.add_node(\"query\", query_node)\n",
        "graph.add_node(\"end\", end_node)  # обязательно!\n",
        "graph.add_conditional_edges(\"query\", refine_node)\n",
        "graph.set_entry_point(\"query\")\n",
        "graph.set_finish_point(\"end\")\n",
        "app = graph.compile()\n",
        "\n",
        "# Запуск\n",
        "initial_state = {\n",
        "    \"question\": \"Что предложить клиенту?\",\n",
        "    \"history\": [],\n",
        "    \"last_answer\": \"\"\n",
        "}\n",
        "\n",
        "final_state = app.invoke(initial_state)\n",
        "\n",
        "# Вывод\n",
        "print(\"🔁 История итераций:\\n\")\n",
        "for i, step in enumerate(final_state[\"history\"], 1):\n",
        "    print(f\"{i}) {step}\\n\")\n",
        "\n"
      ]
    },
    {
      "cell_type": "markdown",
      "source": [
        "🧱 class State(TypedDict)\n",
        "Это формат состояния, которое «течёт» по графу.\n",
        "\n",
        "class State(TypedDict):\n",
        "    question: str\n",
        "    history: list[str]\n",
        "question: текущий текст запроса\n",
        "\n",
        "history: список всех ответов бота\n",
        "\n",
        "last_answer: последний ответ, чтобы проверить его длину\n",
        "\n",
        "🔄 def query_node(...)\n",
        "Этот узел делает основной запрос:\n",
        "\n",
        "answer = engine.query(state[\"question\"]).response.strip()\n",
        "Сохраняет ответ в history\n",
        "\n",
        "Обновляет last_answer\n",
        "\n",
        "🔁 def refine_node(...)\n",
        "Решает, нужно ли уточнение:\n",
        "\n",
        "\n",
        "if len(state[\"last_answer\"].split()) < 20:\n",
        "    state[\"question\"] = f\"Попробуй точнее: {state['question']}\"\n",
        "    return \"query\"  # Цикл\n",
        "return \"end\"\n",
        "Если ответ короче 20 слов → считаем его слабым → переформулируем вопрос → возвращаемся в query\n",
        "\n",
        "Иначе — завершаем\n",
        "\n",
        "🎯 Результат:\n",
        "Если бот даёт \"пустой\" или общий ответ — LangGraph автоматически уточняет вопрос и повторяет.\n",
        "\n"
      ],
      "metadata": {
        "id": "w0CUEW2batTu"
      }
    },
    {
      "cell_type": "code",
      "source": [],
      "metadata": {
        "id": "yA0taDjXZhi4"
      },
      "execution_count": null,
      "outputs": []
    }
  ],
  "metadata": {
    "kernelspec": {
      "display_name": "Python 3",
      "language": "python",
      "name": "python3"
    },
    "language_info": {
      "name": "python",
      "version": "3.10"
    },
    "colab": {
      "provenance": [],
      "include_colab_link": true
    }
  },
  "nbformat": 4,
  "nbformat_minor": 0
}