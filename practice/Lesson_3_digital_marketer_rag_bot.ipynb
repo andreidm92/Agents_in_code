{
  "cells": [
    {
      "cell_type": "markdown",
      "metadata": {
        "id": "view-in-github",
        "colab_type": "text"
      },
      "source": [
        "<a href=\"https://colab.research.google.com/github/andreidm92/Agents_in_code/blob/main/practice/Lesson_3_digital_marketer_rag_bot.ipynb\" target=\"_parent\"><img src=\"https://colab.research.google.com/assets/colab-badge.svg\" alt=\"Open In Colab\"/></a>"
      ]
    },
    {
      "cell_type": "markdown",
      "id": "29f76ed4",
      "metadata": {
        "id": "29f76ed4"
      },
      "source": [
        "\n",
        "# 🎯 Day 3 — Digital Marketer: Контент-ассистент по бренд-документу\n",
        "\n",
        "Этот ноутбук поможет вам создать RAG-бота, который отвечает на вопросы по маркетинговому PDF-документу — брендбуку.\n",
        "\n",
        "Мы используем:\n",
        "- LlamaIndex\n",
        "- VectorStoreIndex\n",
        "- QueryEngine с цитированием источников\n",
        "\n",
        "📄 Пример PDF: [Брендбук «Кит и Кот»](https://kitkot.ru/Downloadsbranbooks/Brandbook_Sveda.pdf)\n"
      ]
    },
    {
      "cell_type": "code",
      "execution_count": 10,
      "id": "cf7d6780",
      "metadata": {
        "colab": {
          "base_uri": "https://localhost:8080/"
        },
        "id": "cf7d6780",
        "outputId": "49f8d580-bb34-4a40-dcf0-da82008caa71"
      },
      "outputs": [
        {
          "output_type": "stream",
          "name": "stdout",
          "text": [
            "Requirement already satisfied: llama-index in /usr/local/lib/python3.11/dist-packages (0.12.36)\n",
            "Requirement already satisfied: llama-index-vector-stores-faiss in /usr/local/lib/python3.11/dist-packages (0.4.0)\n",
            "Collecting PyMuPDF\n",
            "  Downloading pymupdf-1.25.5-cp39-abi3-manylinux2014_x86_64.manylinux_2_17_x86_64.whl.metadata (3.4 kB)\n",
            "Requirement already satisfied: llama-index-agent-openai<0.5,>=0.4.0 in /usr/local/lib/python3.11/dist-packages (from llama-index) (0.4.7)\n",
            "Requirement already satisfied: llama-index-cli<0.5,>=0.4.1 in /usr/local/lib/python3.11/dist-packages (from llama-index) (0.4.1)\n",
            "Requirement already satisfied: llama-index-core<0.13,>=0.12.36 in /usr/local/lib/python3.11/dist-packages (from llama-index) (0.12.36)\n",
            "Requirement already satisfied: llama-index-embeddings-openai<0.4,>=0.3.0 in /usr/local/lib/python3.11/dist-packages (from llama-index) (0.3.1)\n",
            "Requirement already satisfied: llama-index-indices-managed-llama-cloud>=0.4.0 in /usr/local/lib/python3.11/dist-packages (from llama-index) (0.6.11)\n",
            "Requirement already satisfied: llama-index-llms-openai<0.4,>=0.3.0 in /usr/local/lib/python3.11/dist-packages (from llama-index) (0.3.40)\n",
            "Requirement already satisfied: llama-index-multi-modal-llms-openai<0.5,>=0.4.0 in /usr/local/lib/python3.11/dist-packages (from llama-index) (0.4.3)\n",
            "Requirement already satisfied: llama-index-program-openai<0.4,>=0.3.0 in /usr/local/lib/python3.11/dist-packages (from llama-index) (0.3.1)\n",
            "Requirement already satisfied: llama-index-question-gen-openai<0.4,>=0.3.0 in /usr/local/lib/python3.11/dist-packages (from llama-index) (0.3.0)\n",
            "Requirement already satisfied: llama-index-readers-file<0.5,>=0.4.0 in /usr/local/lib/python3.11/dist-packages (from llama-index) (0.4.7)\n",
            "Requirement already satisfied: llama-index-readers-llama-parse>=0.4.0 in /usr/local/lib/python3.11/dist-packages (from llama-index) (0.4.0)\n",
            "Requirement already satisfied: nltk>3.8.1 in /usr/local/lib/python3.11/dist-packages (from llama-index) (3.9.1)\n",
            "Requirement already satisfied: openai>=1.14.0 in /usr/local/lib/python3.11/dist-packages (from llama-index-agent-openai<0.5,>=0.4.0->llama-index) (1.78.1)\n",
            "Requirement already satisfied: aiohttp<4,>=3.8.6 in /usr/local/lib/python3.11/dist-packages (from llama-index-core<0.13,>=0.12.36->llama-index) (3.11.15)\n",
            "Requirement already satisfied: aiosqlite in /usr/local/lib/python3.11/dist-packages (from llama-index-core<0.13,>=0.12.36->llama-index) (0.21.0)\n",
            "Requirement already satisfied: banks<3,>=2.0.0 in /usr/local/lib/python3.11/dist-packages (from llama-index-core<0.13,>=0.12.36->llama-index) (2.1.2)\n",
            "Requirement already satisfied: dataclasses-json in /usr/local/lib/python3.11/dist-packages (from llama-index-core<0.13,>=0.12.36->llama-index) (0.6.7)\n",
            "Requirement already satisfied: deprecated>=1.2.9.3 in /usr/local/lib/python3.11/dist-packages (from llama-index-core<0.13,>=0.12.36->llama-index) (1.2.18)\n",
            "Requirement already satisfied: dirtyjson<2,>=1.0.8 in /usr/local/lib/python3.11/dist-packages (from llama-index-core<0.13,>=0.12.36->llama-index) (1.0.8)\n",
            "Requirement already satisfied: filetype<2,>=1.2.0 in /usr/local/lib/python3.11/dist-packages (from llama-index-core<0.13,>=0.12.36->llama-index) (1.2.0)\n",
            "Requirement already satisfied: fsspec>=2023.5.0 in /usr/local/lib/python3.11/dist-packages (from llama-index-core<0.13,>=0.12.36->llama-index) (2025.3.2)\n",
            "Requirement already satisfied: httpx in /usr/local/lib/python3.11/dist-packages (from llama-index-core<0.13,>=0.12.36->llama-index) (0.28.1)\n",
            "Requirement already satisfied: nest-asyncio<2,>=1.5.8 in /usr/local/lib/python3.11/dist-packages (from llama-index-core<0.13,>=0.12.36->llama-index) (1.6.0)\n",
            "Requirement already satisfied: networkx>=3.0 in /usr/local/lib/python3.11/dist-packages (from llama-index-core<0.13,>=0.12.36->llama-index) (3.4.2)\n",
            "Requirement already satisfied: numpy in /usr/local/lib/python3.11/dist-packages (from llama-index-core<0.13,>=0.12.36->llama-index) (2.0.2)\n",
            "Requirement already satisfied: pillow>=9.0.0 in /usr/local/lib/python3.11/dist-packages (from llama-index-core<0.13,>=0.12.36->llama-index) (11.2.1)\n",
            "Requirement already satisfied: pydantic>=2.8.0 in /usr/local/lib/python3.11/dist-packages (from llama-index-core<0.13,>=0.12.36->llama-index) (2.11.4)\n",
            "Requirement already satisfied: pyyaml>=6.0.1 in /usr/local/lib/python3.11/dist-packages (from llama-index-core<0.13,>=0.12.36->llama-index) (6.0.2)\n",
            "Requirement already satisfied: requests>=2.31.0 in /usr/local/lib/python3.11/dist-packages (from llama-index-core<0.13,>=0.12.36->llama-index) (2.32.3)\n",
            "Requirement already satisfied: sqlalchemy>=1.4.49 in /usr/local/lib/python3.11/dist-packages (from sqlalchemy[asyncio]>=1.4.49->llama-index-core<0.13,>=0.12.36->llama-index) (2.0.40)\n",
            "Requirement already satisfied: tenacity!=8.4.0,<10.0.0,>=8.2.0 in /usr/local/lib/python3.11/dist-packages (from llama-index-core<0.13,>=0.12.36->llama-index) (9.1.2)\n",
            "Requirement already satisfied: tiktoken>=0.7.0 in /usr/local/lib/python3.11/dist-packages (from llama-index-core<0.13,>=0.12.36->llama-index) (0.9.0)\n",
            "Requirement already satisfied: tqdm<5,>=4.66.1 in /usr/local/lib/python3.11/dist-packages (from llama-index-core<0.13,>=0.12.36->llama-index) (4.67.1)\n",
            "Requirement already satisfied: typing-extensions>=4.5.0 in /usr/local/lib/python3.11/dist-packages (from llama-index-core<0.13,>=0.12.36->llama-index) (4.13.2)\n",
            "Requirement already satisfied: typing-inspect>=0.8.0 in /usr/local/lib/python3.11/dist-packages (from llama-index-core<0.13,>=0.12.36->llama-index) (0.9.0)\n",
            "Requirement already satisfied: wrapt in /usr/local/lib/python3.11/dist-packages (from llama-index-core<0.13,>=0.12.36->llama-index) (1.17.2)\n",
            "Requirement already satisfied: llama-cloud<0.2.0,>=0.1.13 in /usr/local/lib/python3.11/dist-packages (from llama-index-indices-managed-llama-cloud>=0.4.0->llama-index) (0.1.19)\n",
            "Requirement already satisfied: beautifulsoup4<5.0.0,>=4.12.3 in /usr/local/lib/python3.11/dist-packages (from llama-index-readers-file<0.5,>=0.4.0->llama-index) (4.13.4)\n",
            "Requirement already satisfied: pandas in /usr/local/lib/python3.11/dist-packages (from llama-index-readers-file<0.5,>=0.4.0->llama-index) (2.2.2)\n",
            "Requirement already satisfied: pypdf<6.0.0,>=5.1.0 in /usr/local/lib/python3.11/dist-packages (from llama-index-readers-file<0.5,>=0.4.0->llama-index) (5.5.0)\n",
            "Requirement already satisfied: striprtf<0.0.27,>=0.0.26 in /usr/local/lib/python3.11/dist-packages (from llama-index-readers-file<0.5,>=0.4.0->llama-index) (0.0.26)\n",
            "Requirement already satisfied: llama-parse>=0.5.0 in /usr/local/lib/python3.11/dist-packages (from llama-index-readers-llama-parse>=0.4.0->llama-index) (0.6.22)\n",
            "Requirement already satisfied: click in /usr/local/lib/python3.11/dist-packages (from nltk>3.8.1->llama-index) (8.2.0)\n",
            "Requirement already satisfied: joblib in /usr/local/lib/python3.11/dist-packages (from nltk>3.8.1->llama-index) (1.5.0)\n",
            "Requirement already satisfied: regex>=2021.8.3 in /usr/local/lib/python3.11/dist-packages (from nltk>3.8.1->llama-index) (2024.11.6)\n",
            "Requirement already satisfied: aiohappyeyeballs>=2.3.0 in /usr/local/lib/python3.11/dist-packages (from aiohttp<4,>=3.8.6->llama-index-core<0.13,>=0.12.36->llama-index) (2.6.1)\n",
            "Requirement already satisfied: aiosignal>=1.1.2 in /usr/local/lib/python3.11/dist-packages (from aiohttp<4,>=3.8.6->llama-index-core<0.13,>=0.12.36->llama-index) (1.3.2)\n",
            "Requirement already satisfied: attrs>=17.3.0 in /usr/local/lib/python3.11/dist-packages (from aiohttp<4,>=3.8.6->llama-index-core<0.13,>=0.12.36->llama-index) (25.3.0)\n",
            "Requirement already satisfied: frozenlist>=1.1.1 in /usr/local/lib/python3.11/dist-packages (from aiohttp<4,>=3.8.6->llama-index-core<0.13,>=0.12.36->llama-index) (1.6.0)\n",
            "Requirement already satisfied: multidict<7.0,>=4.5 in /usr/local/lib/python3.11/dist-packages (from aiohttp<4,>=3.8.6->llama-index-core<0.13,>=0.12.36->llama-index) (6.4.3)\n",
            "Requirement already satisfied: propcache>=0.2.0 in /usr/local/lib/python3.11/dist-packages (from aiohttp<4,>=3.8.6->llama-index-core<0.13,>=0.12.36->llama-index) (0.3.1)\n",
            "Requirement already satisfied: yarl<2.0,>=1.17.0 in /usr/local/lib/python3.11/dist-packages (from aiohttp<4,>=3.8.6->llama-index-core<0.13,>=0.12.36->llama-index) (1.20.0)\n",
            "Requirement already satisfied: griffe in /usr/local/lib/python3.11/dist-packages (from banks<3,>=2.0.0->llama-index-core<0.13,>=0.12.36->llama-index) (1.7.3)\n",
            "Requirement already satisfied: jinja2 in /usr/local/lib/python3.11/dist-packages (from banks<3,>=2.0.0->llama-index-core<0.13,>=0.12.36->llama-index) (3.1.6)\n",
            "Requirement already satisfied: platformdirs in /usr/local/lib/python3.11/dist-packages (from banks<3,>=2.0.0->llama-index-core<0.13,>=0.12.36->llama-index) (4.3.8)\n",
            "Requirement already satisfied: soupsieve>1.2 in /usr/local/lib/python3.11/dist-packages (from beautifulsoup4<5.0.0,>=4.12.3->llama-index-readers-file<0.5,>=0.4.0->llama-index) (2.7)\n",
            "Requirement already satisfied: certifi>=2024.7.4 in /usr/local/lib/python3.11/dist-packages (from llama-cloud<0.2.0,>=0.1.13->llama-index-indices-managed-llama-cloud>=0.4.0->llama-index) (2025.4.26)\n",
            "Requirement already satisfied: anyio in /usr/local/lib/python3.11/dist-packages (from httpx->llama-index-core<0.13,>=0.12.36->llama-index) (4.9.0)\n",
            "Requirement already satisfied: httpcore==1.* in /usr/local/lib/python3.11/dist-packages (from httpx->llama-index-core<0.13,>=0.12.36->llama-index) (1.0.9)\n",
            "Requirement already satisfied: idna in /usr/local/lib/python3.11/dist-packages (from httpx->llama-index-core<0.13,>=0.12.36->llama-index) (3.10)\n",
            "Requirement already satisfied: h11>=0.16 in /usr/local/lib/python3.11/dist-packages (from httpcore==1.*->httpx->llama-index-core<0.13,>=0.12.36->llama-index) (0.16.0)\n",
            "Requirement already satisfied: llama-cloud-services>=0.6.22 in /usr/local/lib/python3.11/dist-packages (from llama-parse>=0.5.0->llama-index-readers-llama-parse>=0.4.0->llama-index) (0.6.22)\n",
            "Requirement already satisfied: distro<2,>=1.7.0 in /usr/local/lib/python3.11/dist-packages (from openai>=1.14.0->llama-index-agent-openai<0.5,>=0.4.0->llama-index) (1.9.0)\n",
            "Requirement already satisfied: jiter<1,>=0.4.0 in /usr/local/lib/python3.11/dist-packages (from openai>=1.14.0->llama-index-agent-openai<0.5,>=0.4.0->llama-index) (0.9.0)\n",
            "Requirement already satisfied: sniffio in /usr/local/lib/python3.11/dist-packages (from openai>=1.14.0->llama-index-agent-openai<0.5,>=0.4.0->llama-index) (1.3.1)\n",
            "Requirement already satisfied: annotated-types>=0.6.0 in /usr/local/lib/python3.11/dist-packages (from pydantic>=2.8.0->llama-index-core<0.13,>=0.12.36->llama-index) (0.7.0)\n",
            "Requirement already satisfied: pydantic-core==2.33.2 in /usr/local/lib/python3.11/dist-packages (from pydantic>=2.8.0->llama-index-core<0.13,>=0.12.36->llama-index) (2.33.2)\n",
            "Requirement already satisfied: typing-inspection>=0.4.0 in /usr/local/lib/python3.11/dist-packages (from pydantic>=2.8.0->llama-index-core<0.13,>=0.12.36->llama-index) (0.4.0)\n",
            "Requirement already satisfied: charset-normalizer<4,>=2 in /usr/local/lib/python3.11/dist-packages (from requests>=2.31.0->llama-index-core<0.13,>=0.12.36->llama-index) (3.4.2)\n",
            "Requirement already satisfied: urllib3<3,>=1.21.1 in /usr/local/lib/python3.11/dist-packages (from requests>=2.31.0->llama-index-core<0.13,>=0.12.36->llama-index) (2.4.0)\n",
            "Requirement already satisfied: greenlet>=1 in /usr/local/lib/python3.11/dist-packages (from sqlalchemy>=1.4.49->sqlalchemy[asyncio]>=1.4.49->llama-index-core<0.13,>=0.12.36->llama-index) (3.2.2)\n",
            "Requirement already satisfied: mypy-extensions>=0.3.0 in /usr/local/lib/python3.11/dist-packages (from typing-inspect>=0.8.0->llama-index-core<0.13,>=0.12.36->llama-index) (1.1.0)\n",
            "Requirement already satisfied: marshmallow<4.0.0,>=3.18.0 in /usr/local/lib/python3.11/dist-packages (from dataclasses-json->llama-index-core<0.13,>=0.12.36->llama-index) (3.26.1)\n",
            "Requirement already satisfied: python-dateutil>=2.8.2 in /usr/local/lib/python3.11/dist-packages (from pandas->llama-index-readers-file<0.5,>=0.4.0->llama-index) (2.9.0.post0)\n",
            "Requirement already satisfied: pytz>=2020.1 in /usr/local/lib/python3.11/dist-packages (from pandas->llama-index-readers-file<0.5,>=0.4.0->llama-index) (2025.2)\n",
            "Requirement already satisfied: tzdata>=2022.7 in /usr/local/lib/python3.11/dist-packages (from pandas->llama-index-readers-file<0.5,>=0.4.0->llama-index) (2025.2)\n",
            "Requirement already satisfied: python-dotenv<2.0.0,>=1.0.1 in /usr/local/lib/python3.11/dist-packages (from llama-cloud-services>=0.6.22->llama-parse>=0.5.0->llama-index-readers-llama-parse>=0.4.0->llama-index) (1.1.0)\n",
            "Requirement already satisfied: packaging>=17.0 in /usr/local/lib/python3.11/dist-packages (from marshmallow<4.0.0,>=3.18.0->dataclasses-json->llama-index-core<0.13,>=0.12.36->llama-index) (24.2)\n",
            "Requirement already satisfied: six>=1.5 in /usr/local/lib/python3.11/dist-packages (from python-dateutil>=2.8.2->pandas->llama-index-readers-file<0.5,>=0.4.0->llama-index) (1.17.0)\n",
            "Requirement already satisfied: colorama>=0.4 in /usr/local/lib/python3.11/dist-packages (from griffe->banks<3,>=2.0.0->llama-index-core<0.13,>=0.12.36->llama-index) (0.4.6)\n",
            "Requirement already satisfied: MarkupSafe>=2.0 in /usr/local/lib/python3.11/dist-packages (from jinja2->banks<3,>=2.0.0->llama-index-core<0.13,>=0.12.36->llama-index) (3.0.2)\n",
            "Downloading pymupdf-1.25.5-cp39-abi3-manylinux2014_x86_64.manylinux_2_17_x86_64.whl (20.0 MB)\n",
            "\u001b[2K   \u001b[90m━━━━━━━━━━━━━━━━━━━━━━━━━━━━━━━━━━━━━━━━\u001b[0m \u001b[32m20.0/20.0 MB\u001b[0m \u001b[31m55.3 MB/s\u001b[0m eta \u001b[36m0:00:00\u001b[0m\n",
            "\u001b[?25hInstalling collected packages: PyMuPDF\n",
            "Successfully installed PyMuPDF-1.25.5\n"
          ]
        }
      ],
      "source": [
        "!pip install llama-index llama-index-vector-stores-faiss PyMuPDF\n"
      ]
    },
    {
      "cell_type": "markdown",
      "source": [
        "🔍 Разница между SimpleDirectoryReader и PyMuPDFReader\n",
        "✅ 1. SimpleDirectoryReader(\"data\").load_data()\n",
        "\n",
        "Это высокоуровневый загрузчик:\n",
        "Проходит по всем файлам в указанной папке.\n",
        "Автоматически определяет типы файлов (.txt, .pdf, .docx, .md, и т.д.).\n",
        "Использует встроенные ридеры, в т.ч. PyMuPDFReader для PDF.\n",
        "\n",
        "Плюсы:\n",
        "\n",
        "Очень просто.\n",
        "Удобно для загрузки сразу нескольких документов.\n",
        "Работает \"из коробки\".\n",
        "\n",
        "Минусы:\n",
        "\n",
        "Меньше контроля над обработкой.\n",
        "Иногда может проигнорировать нестандартные PDF или выдать warning.\n",
        "\n",
        "✅ 2. PyMuPDFReader().load(file_path=...)\n",
        "\n",
        "Это низкоуровневый, явный способ:\n",
        "Ты напрямую говоришь: «используй этот ридер для этого файла».\n",
        "Позволяет точнее контролировать поведение (например, разбивку по страницам, кастомные опции).\n",
        "\n",
        "Плюсы:\n",
        "\n",
        "Лучше для тонкой настройки.\n",
        "Можно выбрать конкретный файл (а не все в папке).\n",
        "Явно указываешь ридер.\n",
        "\n",
        "Минусы:\n",
        "\n",
        "Нужно писать чуть больше кода.\n",
        "Не пройдёт по папке автоматически.\n",
        "\n",
        "🧪 Когда что использовать?\n",
        "\n",
        "Сценарий\t                              Рекомендуемый способ\n",
        "Быстро загрузить все документы в папке\tSimpleDirectoryReader\n",
        "Загрузить конкретный PDF с контролем\t  PyMuPDFReader\n",
        "Загрузка PDF с кастомной логикой\t      PyMuPDFReader + параметры\n",
        "Разные типы файлов в одной папке\t      SimpleDirectoryReader\n",
        "\n",
        "\n",
        "Если в Colab у тебя один PDF — тогда лучше прямо PyMuPDFReader.\n",
        "\n",
        "Если будет много документов — можно оставить SimpleDirectoryReader."
      ],
      "metadata": {
        "id": "hgqOSOqAATMu"
      },
      "id": "hgqOSOqAATMu"
    },
    {
      "cell_type": "code",
      "execution_count": 12,
      "id": "f238a5db",
      "metadata": {
        "colab": {
          "base_uri": "https://localhost:8080/"
        },
        "id": "f238a5db",
        "outputId": "77b050a7-91e8-4f90-9fbc-e1ee7188b6db"
      },
      "outputs": [
        {
          "name": "stdout",
          "output_type": "stream",
          "text": [
            "Вставь OpenAI API ключ: ··········\n"
          ]
        }
      ],
      "source": [
        "from llama_index.core import VectorStoreIndex # Import VectorStoreIndex from llama_index.core\n",
        "from llama_index.readers.file import PyMuPDFReader\n",
        "from llama_index.core import SimpleDirectoryReader # Import SimpleDirectoryReader from llama_index.core\n",
        "\n",
        "import os, getpass\n",
        "os.environ[\"OPENAI_API_KEY\"] = getpass.getpass(\"Вставь OpenAI API ключ: \")\n",
        "\n",
        "# 1-й вариант - Загрузка PDF-файла\n",
        "reader = PyMuPDFReader()\n",
        "docs = reader.load(file_path=\"/content/data/Brandbook_Sveda.pdf\")\n",
        "index = VectorStoreIndex.from_documents(docs)\n",
        "query_engine = index.as_query_engine()\n"
      ]
    },
    {
      "cell_type": "code",
      "execution_count": 13,
      "id": "bc7df760",
      "metadata": {
        "colab": {
          "base_uri": "https://localhost:8080/",
          "height": 53
        },
        "id": "bc7df760",
        "outputId": "8e687a7d-0ee1-4d99-8dee-4557f4218699"
      },
      "outputs": [
        {
          "output_type": "execute_result",
          "data": {
            "text/plain": [
              "'\\n# 2-й вариант - Загрузка и построение индекса\\ndocs = SimpleDirectoryReader(\"data\").load_data()\\nindex = VectorStoreIndex.from_documents(docs)\\nquery_engine = index.as_query_engine()\\n'"
            ],
            "application/vnd.google.colaboratory.intrinsic+json": {
              "type": "string"
            }
          },
          "metadata": {},
          "execution_count": 13
        }
      ],
      "source": [
        "'''\n",
        "# 2-й вариант - Загрузка и построение индекса\n",
        "docs = SimpleDirectoryReader(\"data\").load_data()\n",
        "index = VectorStoreIndex.from_documents(docs)\n",
        "query_engine = index.as_query_engine()\n",
        "'''\n"
      ]
    },
    {
      "cell_type": "code",
      "execution_count": 20,
      "id": "fc7bd336",
      "metadata": {
        "id": "fc7bd336"
      },
      "outputs": [],
      "source": [
        "def ask(query):\n",
        "    response = query_engine.query(query)\n",
        "    print(\"🔹 Ответ:\")\n",
        "    print(response.response)\n",
        "    print(\"\\n🔸 Источники:\")\n",
        "    for i, node in enumerate(response.source_nodes):\n",
        "        print(f\"\\nИсточник {i+1}:\")\n",
        "        print(node.get_text().strip())\n"
      ]
    },
    {
      "cell_type": "code",
      "execution_count": 21,
      "id": "7c2af9d9",
      "metadata": {
        "colab": {
          "base_uri": "https://localhost:8080/"
        },
        "id": "7c2af9d9",
        "outputId": "b7ebacce-f270-435d-d44c-49e795da87ca"
      },
      "outputs": [
        {
          "output_type": "stream",
          "name": "stdout",
          "text": [
            "🔹 Ответ:\n",
            "Стойка кассира-администратора, элементы оборудования (витрина), свободные поверхности стен, навигационные элементы, дизайн ценников, дополнительная коммуникация с покупателем, интерьерный текстиль.\n",
            "\n",
            "🔸 Источники:\n",
            "\n",
            "Источник 1:\n",
            "4  /  ЭЛЕМЕНТЫ ОФОРМЛЕНИЯ ИНТЕРЬЕРА\n",
            "4.1 Элементы \n",
            "оформления интерьера\n",
            "Руководство даёт правила и рекомендации по \n",
            "оформлению элементов интерьера с точки зрения \n",
            "брендинга, а не по конструктивным и материаль-\n",
            "ным решениям.\n",
            "В руководстве рассмотрено оформление \n",
            "следующих элементов интерьера:\n",
            "1. Стойка кассира-администратора\n",
            "2. Элементы оборудования (витрина)\n",
            "3. Свободные поверхности стен\n",
            "4. Навигационные элементы\n",
            "5. Дизайн ценников\n",
            "6. Дополнительная коммуникация с покупателем\n",
            "6. Интерьерный текстиль\n",
            "Брендбук \n",
            "49\n",
            "\n",
            "Источник 2:\n",
            "4  /  ЭЛЕМЕНТЫ ОФОРМЛЕНИЯ ИНТЕРЬЕРА\n",
            "4.2 Цветовое решение\n",
            "Цвета\n",
            "Текстуры\n",
            "Фирменные цвета и стилеобразующие элементы в \n",
            "интерьере являются акцентными и используются \n",
            "дозировано. В противном случае, пространство \n",
            "может потерять воздушность и лёгкость.\n",
            "Общий стиль интерьера – воздушный, легкий, \n",
            "природный. Это отражает и саму суть бренда и \n",
            "представление покупателей об экологичности.\n",
            "При этом помещение должно быть лаконичным \n",
            "и простым, поэтому не усертствуйте с яркими \n",
            "цветами и обилием декора.\n",
            "Основные текстуры – белая фактурная штукатурка \n",
            "и дерево. Они должны занимать до 70% в поме-\n",
            "щении. Для текстиля выбирайте зеленую клетку, \n",
            "бежевые и коричневые цвета льна.\n",
            "Брендбук \n",
            "50\n"
          ]
        }
      ],
      "source": [
        "# 🔍 Пример запроса\n",
        "ask(\"Какие элементы офрмления интерьера?\")\n"
      ]
    },
    {
      "cell_type": "markdown",
      "id": "4910a080",
      "metadata": {
        "id": "4910a080"
      },
      "source": [
        "\n",
        "# ✅ Чеклист\n",
        "# [ ] Загрузил PDF в папку `data/`\n",
        "# [ ] Запустил индексацию\n",
        "# [ ] Сделал 2+ запроса и получил ответы с цитатами\n",
        "# [ ] Сохранил заметки\n",
        "\n",
        "# 💬 Примеры вопросов:\n",
        "# - Какие цвета использовать на лендинге?\n",
        "# - Можем ли мы использовать emoji в Instagram?\n",
        "# - Где упоминается логотип?\n"
      ]
    }
  ],
  "metadata": {
    "colab": {
      "provenance": [],
      "include_colab_link": true
    },
    "language_info": {
      "name": "python"
    },
    "kernelspec": {
      "name": "python3",
      "display_name": "Python 3"
    }
  },
  "nbformat": 4,
  "nbformat_minor": 5
}