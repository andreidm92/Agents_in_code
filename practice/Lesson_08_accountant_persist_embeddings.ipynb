{
  "cells": [
    {
      "cell_type": "markdown",
      "metadata": {
        "id": "view-in-github",
        "colab_type": "text"
      },
      "source": [
        "<a href=\"https://colab.research.google.com/github/andreidm92/Agents_in_code/blob/main/practice/Lesson_08_accountant_persist_embeddings.ipynb\" target=\"_parent\"><img src=\"https://colab.research.google.com/assets/colab-badge.svg\" alt=\"Open In Colab\"/></a>"
      ]
    },
    {
      "cell_type": "markdown",
      "metadata": {
        "id": "WpGAGSZQwllU"
      },
      "source": [
        "# Day 8 — Accountant: Marketing Copy Generator + Persistent Storage\n",
        "\n",
        "## 🔍 Темы урока\n",
        "- **OpenAI Embeddings в LlamaIndex**: семантическая индексация и поиск\n",
        "- **Sensitive vs Safe Tools** в LangGraph: ветвление для фильтрации\n",
        "- **Persistent Storage**: сохранение индексов на диск\n",
        "\n",
        "## 🧠 Теория с описанием API\n",
        "### 🟢 OpenAI Embeddings\n",
        "```python\n",
        "from llama_index.embeddings.openai import OpenAIEmbedding\n",
        "embedding_model = OpenAIEmbedding(model=\"text-embedding-3-small\")\n",
        "```\n",
        "**Используется в:** индексации и семантическом поиске.\n",
        "\n",
        "### 🟠 Sensitive vs Safe Tools (LangGraph)\n",
        "\n",
        "В LangGraph концепция Sensitive vs Safe Tools предназначена для управления доступом агентов к различным инструментам в зависимости от их потенциального воздействия на систему. Это позволяет разработчикам создавать более безопасные и контролируемые рабочие процессы, особенно в сценариях, где автоматические действия могут повлиять на критические данные или процессы.\n",
        "\n",
        "🛡️ Что такое Sensitive и Safe Tools?\n",
        "Safe Tools: Инструменты, которые выполняют только операции чтения или не изменяют состояние системы. Например, поиск информации или генерация текста.\n",
        "\n",
        "Sensitive Tools: Инструменты, которые могут изменять данные или выполнять критические операции, такие как запись в базу данных, отправка электронных писем или выполнение финансовых транзакций.\n",
        "\n",
        "Разделение инструментов на эти категории позволяет внедрять механизмы контроля, такие как подтверждение действий человеком (human-in-the-loop), перед выполнением чувствительных операций.\n",
        "LangChain\n",
        "\n",
        "Как это реализуется в LangGraph?\n",
        "LangGraph использует условные переходы (conditional edges) для маршрутизации запросов к соответствующим инструментам на основе их категории. Это достигается с помощью функции маршрутизации, которая анализирует состояние и определяет, какой инструмент должен быть вызван.\n",
        "Medium\n",
        "\n",
        "Пример функции маршрутизации:\n",
        "```python\n",
        "def route_request(state):\n",
        "    if \"цена\" in state[\"input\"]:\n",
        "        return {\"next\": \"safe_generation\"}\n",
        "    return {\"next\": \"creative_generation\"}\n",
        "```\n",
        "**Используется в:** построении безопасных сценариев генерации.\n",
        "\n",
        "👥 Пример использования: Поддержка клиентов\n",
        "В сценарии поддержки клиентов можно классифицировать действия следующим образом:\n",
        "\n",
        "Safe Tools: Поиск информации о продуктах, ответы на часто задаваемые вопросы.\n",
        "\n",
        "Sensitive Tools: Изменение информации о заказе, обработка возвратов, обновление учетных данных пользователя.\n",
        "\n",
        "При использовании Sensitive Tools можно внедрить механизм подтверждения действий человеком перед их выполнением, обеспечивая дополнительный уровень безопасности.\n",
        "\n",
        "✅ Преимущества подхода\n",
        "Повышенная безопасность: Предотвращает выполнение критических операций без надлежащего контроля.\n",
        "\n",
        "Гибкость: Позволяет агентам автоматически обрабатывать безопасные запросы, снижая нагрузку на операторов.\n",
        "\n",
        "Прозрачность: Обеспечивает ясное разделение между различными типами операций, упрощая аудит и отладку.\n",
        "\n",
        "### 🔵 Persistent Storage\n",
        "```python\n",
        "# Сохраняем:\n",
        "index.storage_context.persist(persist_dir=\"./index_store\")\n",
        "# Загружаем:\n",
        "from llama_index.core import load_index_from_storage\n",
        "index = load_index_from_storage(\"./index_store\")\n",
        "```\n",
        "**Используется в:** продакшн, кэширование, ускорение.\n"
      ],
      "id": "WpGAGSZQwllU"
    },
    {
      "cell_type": "markdown",
      "source": [],
      "metadata": {
        "id": "6T2l8YrsaHpc"
      },
      "id": "6T2l8YrsaHpc"
    },
    {
      "cell_type": "code",
      "source": [
        "!pip install llama-index\n",
        "!pip install docx2txt\n"
      ],
      "metadata": {
        "colab": {
          "base_uri": "https://localhost:8080/"
        },
        "id": "NjhiawzwS84X",
        "outputId": "520c774a-92b1-4151-fad0-97a3cd50e85e"
      },
      "id": "NjhiawzwS84X",
      "execution_count": 4,
      "outputs": [
        {
          "output_type": "stream",
          "name": "stdout",
          "text": [
            "Requirement already satisfied: llama-index in /usr/local/lib/python3.11/dist-packages (0.12.37)\n",
            "Requirement already satisfied: llama-index-agent-openai<0.5,>=0.4.0 in /usr/local/lib/python3.11/dist-packages (from llama-index) (0.4.8)\n",
            "Requirement already satisfied: llama-index-cli<0.5,>=0.4.1 in /usr/local/lib/python3.11/dist-packages (from llama-index) (0.4.1)\n",
            "Requirement already satisfied: llama-index-core<0.13,>=0.12.36 in /usr/local/lib/python3.11/dist-packages (from llama-index) (0.12.37)\n",
            "Requirement already satisfied: llama-index-embeddings-openai<0.4,>=0.3.0 in /usr/local/lib/python3.11/dist-packages (from llama-index) (0.3.1)\n",
            "Requirement already satisfied: llama-index-indices-managed-llama-cloud>=0.4.0 in /usr/local/lib/python3.11/dist-packages (from llama-index) (0.6.11)\n",
            "Requirement already satisfied: llama-index-llms-openai<0.4,>=0.3.0 in /usr/local/lib/python3.11/dist-packages (from llama-index) (0.3.44)\n",
            "Requirement already satisfied: llama-index-multi-modal-llms-openai<0.5,>=0.4.0 in /usr/local/lib/python3.11/dist-packages (from llama-index) (0.4.3)\n",
            "Requirement already satisfied: llama-index-program-openai<0.4,>=0.3.0 in /usr/local/lib/python3.11/dist-packages (from llama-index) (0.3.1)\n",
            "Requirement already satisfied: llama-index-question-gen-openai<0.4,>=0.3.0 in /usr/local/lib/python3.11/dist-packages (from llama-index) (0.3.0)\n",
            "Requirement already satisfied: llama-index-readers-file<0.5,>=0.4.0 in /usr/local/lib/python3.11/dist-packages (from llama-index) (0.4.7)\n",
            "Requirement already satisfied: llama-index-readers-llama-parse>=0.4.0 in /usr/local/lib/python3.11/dist-packages (from llama-index) (0.4.0)\n",
            "Requirement already satisfied: nltk>3.8.1 in /usr/local/lib/python3.11/dist-packages (from llama-index) (3.9.1)\n",
            "Requirement already satisfied: openai>=1.14.0 in /usr/local/lib/python3.11/dist-packages (from llama-index-agent-openai<0.5,>=0.4.0->llama-index) (1.82.0)\n",
            "Requirement already satisfied: aiohttp<4,>=3.8.6 in /usr/local/lib/python3.11/dist-packages (from llama-index-core<0.13,>=0.12.36->llama-index) (3.11.15)\n",
            "Requirement already satisfied: aiosqlite in /usr/local/lib/python3.11/dist-packages (from llama-index-core<0.13,>=0.12.36->llama-index) (0.21.0)\n",
            "Requirement already satisfied: banks<3,>=2.0.0 in /usr/local/lib/python3.11/dist-packages (from llama-index-core<0.13,>=0.12.36->llama-index) (2.1.2)\n",
            "Requirement already satisfied: dataclasses-json in /usr/local/lib/python3.11/dist-packages (from llama-index-core<0.13,>=0.12.36->llama-index) (0.6.7)\n",
            "Requirement already satisfied: deprecated>=1.2.9.3 in /usr/local/lib/python3.11/dist-packages (from llama-index-core<0.13,>=0.12.36->llama-index) (1.2.18)\n",
            "Requirement already satisfied: dirtyjson<2,>=1.0.8 in /usr/local/lib/python3.11/dist-packages (from llama-index-core<0.13,>=0.12.36->llama-index) (1.0.8)\n",
            "Requirement already satisfied: filetype<2,>=1.2.0 in /usr/local/lib/python3.11/dist-packages (from llama-index-core<0.13,>=0.12.36->llama-index) (1.2.0)\n",
            "Requirement already satisfied: fsspec>=2023.5.0 in /usr/local/lib/python3.11/dist-packages (from llama-index-core<0.13,>=0.12.36->llama-index) (2025.3.2)\n",
            "Requirement already satisfied: httpx in /usr/local/lib/python3.11/dist-packages (from llama-index-core<0.13,>=0.12.36->llama-index) (0.28.1)\n",
            "Requirement already satisfied: nest-asyncio<2,>=1.5.8 in /usr/local/lib/python3.11/dist-packages (from llama-index-core<0.13,>=0.12.36->llama-index) (1.6.0)\n",
            "Requirement already satisfied: networkx>=3.0 in /usr/local/lib/python3.11/dist-packages (from llama-index-core<0.13,>=0.12.36->llama-index) (3.4.2)\n",
            "Requirement already satisfied: numpy in /usr/local/lib/python3.11/dist-packages (from llama-index-core<0.13,>=0.12.36->llama-index) (2.0.2)\n",
            "Requirement already satisfied: pillow>=9.0.0 in /usr/local/lib/python3.11/dist-packages (from llama-index-core<0.13,>=0.12.36->llama-index) (11.2.1)\n",
            "Requirement already satisfied: pydantic>=2.8.0 in /usr/local/lib/python3.11/dist-packages (from llama-index-core<0.13,>=0.12.36->llama-index) (2.11.4)\n",
            "Requirement already satisfied: pyyaml>=6.0.1 in /usr/local/lib/python3.11/dist-packages (from llama-index-core<0.13,>=0.12.36->llama-index) (6.0.2)\n",
            "Requirement already satisfied: requests>=2.31.0 in /usr/local/lib/python3.11/dist-packages (from llama-index-core<0.13,>=0.12.36->llama-index) (2.32.3)\n",
            "Requirement already satisfied: sqlalchemy>=1.4.49 in /usr/local/lib/python3.11/dist-packages (from sqlalchemy[asyncio]>=1.4.49->llama-index-core<0.13,>=0.12.36->llama-index) (2.0.40)\n",
            "Requirement already satisfied: tenacity!=8.4.0,<10.0.0,>=8.2.0 in /usr/local/lib/python3.11/dist-packages (from llama-index-core<0.13,>=0.12.36->llama-index) (9.1.2)\n",
            "Requirement already satisfied: tiktoken>=0.7.0 in /usr/local/lib/python3.11/dist-packages (from llama-index-core<0.13,>=0.12.36->llama-index) (0.9.0)\n",
            "Requirement already satisfied: tqdm<5,>=4.66.1 in /usr/local/lib/python3.11/dist-packages (from llama-index-core<0.13,>=0.12.36->llama-index) (4.67.1)\n",
            "Requirement already satisfied: typing-extensions>=4.5.0 in /usr/local/lib/python3.11/dist-packages (from llama-index-core<0.13,>=0.12.36->llama-index) (4.13.2)\n",
            "Requirement already satisfied: typing-inspect>=0.8.0 in /usr/local/lib/python3.11/dist-packages (from llama-index-core<0.13,>=0.12.36->llama-index) (0.9.0)\n",
            "Requirement already satisfied: wrapt in /usr/local/lib/python3.11/dist-packages (from llama-index-core<0.13,>=0.12.36->llama-index) (1.17.2)\n",
            "Requirement already satisfied: llama-cloud<0.2.0,>=0.1.13 in /usr/local/lib/python3.11/dist-packages (from llama-index-indices-managed-llama-cloud>=0.4.0->llama-index) (0.1.22)\n",
            "Requirement already satisfied: beautifulsoup4<5.0.0,>=4.12.3 in /usr/local/lib/python3.11/dist-packages (from llama-index-readers-file<0.5,>=0.4.0->llama-index) (4.13.4)\n",
            "Requirement already satisfied: pandas in /usr/local/lib/python3.11/dist-packages (from llama-index-readers-file<0.5,>=0.4.0->llama-index) (2.2.2)\n",
            "Requirement already satisfied: pypdf<6.0.0,>=5.1.0 in /usr/local/lib/python3.11/dist-packages (from llama-index-readers-file<0.5,>=0.4.0->llama-index) (5.5.0)\n",
            "Requirement already satisfied: striprtf<0.0.27,>=0.0.26 in /usr/local/lib/python3.11/dist-packages (from llama-index-readers-file<0.5,>=0.4.0->llama-index) (0.0.26)\n",
            "Requirement already satisfied: llama-parse>=0.5.0 in /usr/local/lib/python3.11/dist-packages (from llama-index-readers-llama-parse>=0.4.0->llama-index) (0.6.23)\n",
            "Requirement already satisfied: click in /usr/local/lib/python3.11/dist-packages (from nltk>3.8.1->llama-index) (8.2.0)\n",
            "Requirement already satisfied: joblib in /usr/local/lib/python3.11/dist-packages (from nltk>3.8.1->llama-index) (1.5.0)\n",
            "Requirement already satisfied: regex>=2021.8.3 in /usr/local/lib/python3.11/dist-packages (from nltk>3.8.1->llama-index) (2024.11.6)\n",
            "Requirement already satisfied: aiohappyeyeballs>=2.3.0 in /usr/local/lib/python3.11/dist-packages (from aiohttp<4,>=3.8.6->llama-index-core<0.13,>=0.12.36->llama-index) (2.6.1)\n",
            "Requirement already satisfied: aiosignal>=1.1.2 in /usr/local/lib/python3.11/dist-packages (from aiohttp<4,>=3.8.6->llama-index-core<0.13,>=0.12.36->llama-index) (1.3.2)\n",
            "Requirement already satisfied: attrs>=17.3.0 in /usr/local/lib/python3.11/dist-packages (from aiohttp<4,>=3.8.6->llama-index-core<0.13,>=0.12.36->llama-index) (25.3.0)\n",
            "Requirement already satisfied: frozenlist>=1.1.1 in /usr/local/lib/python3.11/dist-packages (from aiohttp<4,>=3.8.6->llama-index-core<0.13,>=0.12.36->llama-index) (1.6.0)\n",
            "Requirement already satisfied: multidict<7.0,>=4.5 in /usr/local/lib/python3.11/dist-packages (from aiohttp<4,>=3.8.6->llama-index-core<0.13,>=0.12.36->llama-index) (6.4.3)\n",
            "Requirement already satisfied: propcache>=0.2.0 in /usr/local/lib/python3.11/dist-packages (from aiohttp<4,>=3.8.6->llama-index-core<0.13,>=0.12.36->llama-index) (0.3.1)\n",
            "Requirement already satisfied: yarl<2.0,>=1.17.0 in /usr/local/lib/python3.11/dist-packages (from aiohttp<4,>=3.8.6->llama-index-core<0.13,>=0.12.36->llama-index) (1.20.0)\n",
            "Requirement already satisfied: griffe in /usr/local/lib/python3.11/dist-packages (from banks<3,>=2.0.0->llama-index-core<0.13,>=0.12.36->llama-index) (1.7.3)\n",
            "Requirement already satisfied: jinja2 in /usr/local/lib/python3.11/dist-packages (from banks<3,>=2.0.0->llama-index-core<0.13,>=0.12.36->llama-index) (3.1.6)\n",
            "Requirement already satisfied: platformdirs in /usr/local/lib/python3.11/dist-packages (from banks<3,>=2.0.0->llama-index-core<0.13,>=0.12.36->llama-index) (4.3.8)\n",
            "Requirement already satisfied: soupsieve>1.2 in /usr/local/lib/python3.11/dist-packages (from beautifulsoup4<5.0.0,>=4.12.3->llama-index-readers-file<0.5,>=0.4.0->llama-index) (2.7)\n",
            "Requirement already satisfied: certifi>=2024.7.4 in /usr/local/lib/python3.11/dist-packages (from llama-cloud<0.2.0,>=0.1.13->llama-index-indices-managed-llama-cloud>=0.4.0->llama-index) (2025.4.26)\n",
            "Requirement already satisfied: anyio in /usr/local/lib/python3.11/dist-packages (from httpx->llama-index-core<0.13,>=0.12.36->llama-index) (4.9.0)\n",
            "Requirement already satisfied: httpcore==1.* in /usr/local/lib/python3.11/dist-packages (from httpx->llama-index-core<0.13,>=0.12.36->llama-index) (1.0.9)\n",
            "Requirement already satisfied: idna in /usr/local/lib/python3.11/dist-packages (from httpx->llama-index-core<0.13,>=0.12.36->llama-index) (3.10)\n",
            "Requirement already satisfied: h11>=0.16 in /usr/local/lib/python3.11/dist-packages (from httpcore==1.*->httpx->llama-index-core<0.13,>=0.12.36->llama-index) (0.16.0)\n",
            "Requirement already satisfied: llama-cloud-services>=0.6.23 in /usr/local/lib/python3.11/dist-packages (from llama-parse>=0.5.0->llama-index-readers-llama-parse>=0.4.0->llama-index) (0.6.23)\n",
            "Requirement already satisfied: distro<2,>=1.7.0 in /usr/local/lib/python3.11/dist-packages (from openai>=1.14.0->llama-index-agent-openai<0.5,>=0.4.0->llama-index) (1.9.0)\n",
            "Requirement already satisfied: jiter<1,>=0.4.0 in /usr/local/lib/python3.11/dist-packages (from openai>=1.14.0->llama-index-agent-openai<0.5,>=0.4.0->llama-index) (0.9.0)\n",
            "Requirement already satisfied: sniffio in /usr/local/lib/python3.11/dist-packages (from openai>=1.14.0->llama-index-agent-openai<0.5,>=0.4.0->llama-index) (1.3.1)\n",
            "Requirement already satisfied: annotated-types>=0.6.0 in /usr/local/lib/python3.11/dist-packages (from pydantic>=2.8.0->llama-index-core<0.13,>=0.12.36->llama-index) (0.7.0)\n",
            "Requirement already satisfied: pydantic-core==2.33.2 in /usr/local/lib/python3.11/dist-packages (from pydantic>=2.8.0->llama-index-core<0.13,>=0.12.36->llama-index) (2.33.2)\n",
            "Requirement already satisfied: typing-inspection>=0.4.0 in /usr/local/lib/python3.11/dist-packages (from pydantic>=2.8.0->llama-index-core<0.13,>=0.12.36->llama-index) (0.4.0)\n",
            "Requirement already satisfied: charset-normalizer<4,>=2 in /usr/local/lib/python3.11/dist-packages (from requests>=2.31.0->llama-index-core<0.13,>=0.12.36->llama-index) (3.4.2)\n",
            "Requirement already satisfied: urllib3<3,>=1.21.1 in /usr/local/lib/python3.11/dist-packages (from requests>=2.31.0->llama-index-core<0.13,>=0.12.36->llama-index) (2.4.0)\n",
            "Requirement already satisfied: greenlet>=1 in /usr/local/lib/python3.11/dist-packages (from sqlalchemy>=1.4.49->sqlalchemy[asyncio]>=1.4.49->llama-index-core<0.13,>=0.12.36->llama-index) (3.2.2)\n",
            "Requirement already satisfied: mypy-extensions>=0.3.0 in /usr/local/lib/python3.11/dist-packages (from typing-inspect>=0.8.0->llama-index-core<0.13,>=0.12.36->llama-index) (1.1.0)\n",
            "Requirement already satisfied: marshmallow<4.0.0,>=3.18.0 in /usr/local/lib/python3.11/dist-packages (from dataclasses-json->llama-index-core<0.13,>=0.12.36->llama-index) (3.26.1)\n",
            "Requirement already satisfied: python-dateutil>=2.8.2 in /usr/local/lib/python3.11/dist-packages (from pandas->llama-index-readers-file<0.5,>=0.4.0->llama-index) (2.9.0.post0)\n",
            "Requirement already satisfied: pytz>=2020.1 in /usr/local/lib/python3.11/dist-packages (from pandas->llama-index-readers-file<0.5,>=0.4.0->llama-index) (2025.2)\n",
            "Requirement already satisfied: tzdata>=2022.7 in /usr/local/lib/python3.11/dist-packages (from pandas->llama-index-readers-file<0.5,>=0.4.0->llama-index) (2025.2)\n",
            "Requirement already satisfied: python-dotenv<2.0.0,>=1.0.1 in /usr/local/lib/python3.11/dist-packages (from llama-cloud-services>=0.6.23->llama-parse>=0.5.0->llama-index-readers-llama-parse>=0.4.0->llama-index) (1.1.0)\n",
            "Requirement already satisfied: packaging>=17.0 in /usr/local/lib/python3.11/dist-packages (from marshmallow<4.0.0,>=3.18.0->dataclasses-json->llama-index-core<0.13,>=0.12.36->llama-index) (24.2)\n",
            "Requirement already satisfied: six>=1.5 in /usr/local/lib/python3.11/dist-packages (from python-dateutil>=2.8.2->pandas->llama-index-readers-file<0.5,>=0.4.0->llama-index) (1.17.0)\n",
            "Requirement already satisfied: colorama>=0.4 in /usr/local/lib/python3.11/dist-packages (from griffe->banks<3,>=2.0.0->llama-index-core<0.13,>=0.12.36->llama-index) (0.4.6)\n",
            "Requirement already satisfied: MarkupSafe>=2.0 in /usr/local/lib/python3.11/dist-packages (from jinja2->banks<3,>=2.0.0->llama-index-core<0.13,>=0.12.36->llama-index) (3.0.2)\n",
            "Collecting docx2txt\n",
            "  Downloading docx2txt-0.9-py3-none-any.whl.metadata (529 bytes)\n",
            "Downloading docx2txt-0.9-py3-none-any.whl (4.0 kB)\n",
            "Installing collected packages: docx2txt\n",
            "Successfully installed docx2txt-0.9\n"
          ]
        }
      ]
    },
    {
      "cell_type": "code",
      "source": [
        "import os, getpass\n",
        "os.environ[\"OPENAI_API_KEY\"] = getpass.getpass(\"Вставь OpenAI API ключ: \")"
      ],
      "metadata": {
        "colab": {
          "base_uri": "https://localhost:8080/"
        },
        "id": "qv5vnY_jS7aJ",
        "outputId": "1c3c7c90-cc67-49de-8007-4cfb8ed3d95f"
      },
      "id": "qv5vnY_jS7aJ",
      "execution_count": 2,
      "outputs": [
        {
          "name": "stdout",
          "output_type": "stream",
          "text": [
            "Вставь OpenAI API ключ: ··········\n"
          ]
        }
      ]
    },
    {
      "cell_type": "code",
      "metadata": {
        "id": "tEzFRKz-wllZ"
      },
      "source": [
        "# ✅ Импорты и загрузка данных\n",
        "from llama_index.core import SimpleDirectoryReader, VectorStoreIndex\n",
        "from llama_index.embeddings.openai import OpenAIEmbedding\n",
        "from llama_index.llms.openai import OpenAI\n",
        "from llama_index.core import load_index_from_storage\n",
        "import os\n",
        "from llama_index.core import StorageContext, load_index_from_storage\n",
        "\n",
        "docs = SimpleDirectoryReader(\"data\").load_data()\n",
        "embed_model = OpenAIEmbedding(model=\"text-embedding-3-small\")\n"
      ],
      "id": "tEzFRKz-wllZ",
      "execution_count": 12,
      "outputs": []
    },
    {
      "cell_type": "markdown",
      "source": [
        "Это — пример кода из LlamaIndex для постоянного хранения и загрузки индекса, чтобы не пересоздавать его каждый раз:"
      ],
      "metadata": {
        "id": "Sv95bxoyVhZ0"
      },
      "id": "Sv95bxoyVhZ0"
    },
    {
      "cell_type": "code",
      "metadata": {
        "id": "Fwgyx2lewlla"
      },
      "source": [
        "# TODO: Создай индекс и сохрани его в папку ./index_store\n",
        "index = VectorStoreIndex.from_documents(docs, embed_model=embed_model)\n",
        "index.storage_context.persist(\"./index_store\")\n"
      ],
      "id": "Fwgyx2lewlla",
      "execution_count": 6,
      "outputs": []
    },
    {
      "cell_type": "code",
      "metadata": {
        "colab": {
          "base_uri": "https://localhost:8080/"
        },
        "id": "iKU2GYkWwllb",
        "outputId": "49099b4c-0a6f-4381-a1ef-a59df5080015"
      },
      "source": [
        "# TODO: Загрузи индекс из хранилища и создай query engine\n",
        "storage_context = StorageContext.from_defaults(persist_dir=\"./index_store\")\n",
        "index = load_index_from_storage(storage_context)\n",
        "query_engine = index.as_query_engine()\n",
        "print(query_engine.query(\"С кем был заключен договор аренды\"))\n"
      ],
      "id": "iKU2GYkWwllb",
      "execution_count": 14,
      "outputs": [
        {
          "output_type": "stream",
          "name": "stdout",
          "text": [
            "The lease agreement was signed between Ivanov Ivan Sergeevich as the Landlord and Smirnov Petr Valeryevich as the Tenant.\n"
          ]
        }
      ]
    },
    {
      "cell_type": "markdown",
      "source": [
        "### Sensitive vs Safe Tools (LangGraph)"
      ],
      "metadata": {
        "id": "ZxsVx9xTc46c"
      },
      "id": "ZxsVx9xTc46c"
    },
    {
      "cell_type": "markdown",
      "source": [
        "🧱 1. Реализовать фильтр:\n",
        "Определять, какой шаблон использовать — безопасный (safe) или креативный (full / creative) — в зависимости от содержания запроса.\n",
        "\n",
        "✅ Пример фильтра:"
      ],
      "metadata": {
        "id": "EDvf3wq1dS6I"
      },
      "id": "EDvf3wq1dS6I"
    },
    {
      "cell_type": "code",
      "source": [
        "def is_sensitive(text):\n",
        "    sensitive_keywords = [\"цена\", \"деньги\", \"карта\", \"скидка\", \"оплата\"]\n",
        "    return any(keyword in text.lower() for keyword in sensitive_keywords)\n"
      ],
      "metadata": {
        "id": "T6LZBH-HdZ5A"
      },
      "id": "T6LZBH-HdZ5A",
      "execution_count": 18,
      "outputs": []
    },
    {
      "cell_type": "markdown",
      "source": [
        "🧾 2. Создать два шаблона генерации:\n",
        "🟢 Безопасный шаблон (safe_template):\n",
        "Используется, если запрос содержит чувствительные слова. Выдаёт формальный/нейтральный текст."
      ],
      "metadata": {
        "id": "IzqlWkd0djSt"
      },
      "id": "IzqlWkd0djSt"
    },
    {
      "cell_type": "code",
      "source": [
        "safe_template = \"Описание продукта: {description}. Узнайте больше на нашем сайте.\"\n"
      ],
      "metadata": {
        "id": "GM1Faf8hdloU"
      },
      "id": "GM1Faf8hdloU",
      "execution_count": 19,
      "outputs": []
    },
    {
      "cell_type": "markdown",
      "source": [
        "🔵 Полный шаблон (creative_template):\n",
        "Используется для обычных запросов. Генерирует более рекламный/креативный текст."
      ],
      "metadata": {
        "id": "MfY0YaHAdwGL"
      },
      "id": "MfY0YaHAdwGL"
    },
    {
      "cell_type": "code",
      "source": [
        "creative_template = \"🔥 Не упустите шанс! {description} — только сегодня на сайте!\"\n"
      ],
      "metadata": {
        "id": "tZbnJxGBd18s"
      },
      "id": "tZbnJxGBd18s",
      "execution_count": 17,
      "outputs": []
    },
    {
      "cell_type": "markdown",
      "source": [
        "🔄 Вместе это работает так:"
      ],
      "metadata": {
        "id": "mEg1JicQeNCe"
      },
      "id": "mEg1JicQeNCe"
    },
    {
      "cell_type": "code",
      "source": [
        "def generate_copy(description):\n",
        "    template = safe_template if is_sensitive(description) else creative_template\n",
        "    return {\n",
        "        \"email\": template.format(description=description),\n",
        "        \"social\": f\"{description} — подробнее на сайте! #новинка #скидка\",\n",
        "        \"snippet\": f\"{description} — узнайте больше.\"\n",
        "    }\n"
      ],
      "metadata": {
        "id": "UwjDteJFeOFc"
      },
      "id": "UwjDteJFeOFc",
      "execution_count": 20,
      "outputs": []
    },
    {
      "cell_type": "markdown",
      "source": [
        "Это просто Python-ветвление, которое работает без LangGraph."
      ],
      "metadata": {
        "id": "HmpYCvRufGU1"
      },
      "id": "HmpYCvRufGU1"
    },
    {
      "cell_type": "markdown",
      "source": [
        "🧩 А при чём здесь LangGraph?\n",
        "LangGraph — это графовый фреймворк для управления состоянием и маршрутизации запросов, часто используемый в архитектурах с LLM. Он позволяет делать то же самое, но декларативно, через узлы и переходы.\n",
        "\n",
        "✅ Как LangGraph реализует такое ветвление:\n",
        "Ты задаёшь узлы: safe_generation, creative_generation.\n",
        "\n",
        "Создаёшь условный переход между ними через функцию:\n"
      ],
      "metadata": {
        "id": "wkSVYvByfTqx"
      },
      "id": "wkSVYvByfTqx"
    },
    {
      "cell_type": "code",
      "metadata": {
        "id": "dDHaWL3Kwllb"
      },
      "source": [
        "def route_request(state):\n",
        "    if \"цена\" in state[\"input\"]:\n",
        "        return {\"next\": \"safe_generation\"}\n",
        "    return {\"next\": \"creative_generation\"}\n",
        "\n",
        "#graph.add_conditional_edges(\"router\", route_request)\n",
        "\n"
      ],
      "id": "dDHaWL3Kwllb",
      "execution_count": 16,
      "outputs": []
    },
    {
      "cell_type": "markdown",
      "source": [
        "При запуске граф сам решает, куда направить токен — к безопасному или креативному обработчику.\n",
        "\n",
        "📊 Когда использовать LangGraph\n",
        "Когда логика становится сложной (много условий, шагов, подграфов).\n",
        "\n",
        "Когда нужен контроль за потоками, чекпоинтинг, human-in-the-loop.\n",
        "\n",
        "В продакшене — для визуального аудита и отладки.\n",
        "\n"
      ],
      "metadata": {
        "id": "M5VumkCzfmpI"
      },
      "id": "M5VumkCzfmpI"
    },
    {
      "cell_type": "markdown",
      "source": [
        "🔄 LangGraph Demo: Sensitive vs Safe Tools\n",
        "Этот ноутбук демонстрирует, как использовать LangGraph для маршрутизации запросов между \"чувствительным\" и \"безопасным\" генератором маркетинговых текстов. Это архитектурный паттерн \"Sensitive vs Safe Tools\".\n",
        "\n",
        "🧠 Что делает граф:\n",
        "Запросы с чувствительными словами (цена, скидка, карта...) → идут в safe_generator.\n",
        "Остальные → в creative_generator.\n",
        "🧰 Используемые компоненты:\n",
        "StateGraph из LangGraph\n",
        "add_node() для генераторов\n",
        "add_conditional_edges() для фильтрации"
      ],
      "metadata": {
        "id": "FeIjQBt-gXra"
      },
      "id": "FeIjQBt-gXra"
    },
    {
      "cell_type": "code",
      "source": [
        "!pip install -q langgraph"
      ],
      "metadata": {
        "colab": {
          "base_uri": "https://localhost:8080/"
        },
        "id": "ZB0GYekHgdGq",
        "outputId": "64be432f-20c0-40cf-c934-ce005d295b3f"
      },
      "id": "ZB0GYekHgdGq",
      "execution_count": 21,
      "outputs": [
        {
          "output_type": "stream",
          "name": "stdout",
          "text": [
            "\u001b[2K     \u001b[90m━━━━━━━━━━━━━━━━━━━━━━━━━━━━━━━━━━━━━━━━\u001b[0m \u001b[32m43.5/43.5 kB\u001b[0m \u001b[31m1.7 MB/s\u001b[0m eta \u001b[36m0:00:00\u001b[0m\n",
            "\u001b[2K   \u001b[90m━━━━━━━━━━━━━━━━━━━━━━━━━━━━━━━━━━━━━━━━\u001b[0m \u001b[32m155.3/155.3 kB\u001b[0m \u001b[31m5.6 MB/s\u001b[0m eta \u001b[36m0:00:00\u001b[0m\n",
            "\u001b[2K   \u001b[90m━━━━━━━━━━━━━━━━━━━━━━━━━━━━━━━━━━━━━━━━\u001b[0m \u001b[32m44.2/44.2 kB\u001b[0m \u001b[31m3.4 MB/s\u001b[0m eta \u001b[36m0:00:00\u001b[0m\n",
            "\u001b[2K   \u001b[90m━━━━━━━━━━━━━━━━━━━━━━━━━━━━━━━━━━━━━━━━\u001b[0m \u001b[32m50.0/50.0 kB\u001b[0m \u001b[31m4.0 MB/s\u001b[0m eta \u001b[36m0:00:00\u001b[0m\n",
            "\u001b[2K   \u001b[90m━━━━━━━━━━━━━━━━━━━━━━━━━━━━━━━━━━━━━━━━\u001b[0m \u001b[32m223.6/223.6 kB\u001b[0m \u001b[31m14.0 MB/s\u001b[0m eta \u001b[36m0:00:00\u001b[0m\n",
            "\u001b[?25h"
          ]
        }
      ]
    },
    {
      "cell_type": "code",
      "source": [
        "from langgraph.graph import StateGraph"
      ],
      "metadata": {
        "id": "cUGDsRAdgePw"
      },
      "id": "cUGDsRAdgePw",
      "execution_count": 22,
      "outputs": []
    },
    {
      "cell_type": "code",
      "source": [
        "def is_sensitive(text):\n",
        "    keywords = ['цена', 'скидка', 'деньги', 'карта']\n",
        "    return any(word in text.lower() for word in keywords)\n",
        "\n",
        "def router_node(state):\n",
        "    print(f\"router_node: received input = {state['input']}\")\n",
        "    if is_sensitive(state[\"input\"]):\n",
        "        print(\"routing to SAFE\")\n",
        "        return \"safe\"  # 🔄 просто строка\n",
        "    print(\"routing to CREATIVE\")\n",
        "    return \"creative\"\n",
        "\n",
        "def creative_generator(state):\n",
        "  print(\"CREATIVE NODE RUNNING\")\n",
        "  return {\n",
        "      \"input\": state[\"input\"],\n",
        "      \"output\": f\"CREATIVE TEXT: {state['input']}! 🔥 Не упусти шанс!\"\n",
        "    }\n",
        "\n",
        "def safe_generator(state):\n",
        "  return {\n",
        "      \"input\": state[\"input\"],\n",
        "      \"output\": f\"SAFE TEXT: {state['input']} — уточните детали на сайте.\"\n",
        "    }\n",
        "\n"
      ],
      "metadata": {
        "id": "hq5DosUAgmhk"
      },
      "id": "hq5DosUAgmhk",
      "execution_count": 64,
      "outputs": []
    },
    {
      "cell_type": "code",
      "source": [
        "from langgraph.graph import StateGraph\n",
        "from typing import TypedDict\n",
        "\n",
        "class MyState(TypedDict, total=False):  # 👈 это главное\n",
        "    input: str\n",
        "    output: str\n",
        "\n",
        "graph = StateGraph(state_schema=MyState)\n",
        "graph.add_node(\"safe\", safe_generator)\n",
        "graph.add_node(\"creative\", creative_generator)\n",
        "graph.add_node(\"router\", lambda state: {\"input\": state[\"input\"]}) # узел прокладка\n",
        "graph.add_conditional_edges(\"router\", router_node)  # условие напрямую\n",
        "graph.set_entry_point(\"router\")\n",
        "graph.set_finish_point(\"safe\")\n",
        "graph.set_finish_point(\"creative\")\n",
        "\n",
        "app = graph.compile()\n",
        "\n"
      ],
      "metadata": {
        "id": "exch0XJmgrG0"
      },
      "id": "exch0XJmgrG0",
      "execution_count": 65,
      "outputs": []
    },
    {
      "cell_type": "code",
      "source": [
        "result = app.invoke({\"input\": \"Крутая кофеварка со скидкой 30%\", \"output\": \"\"})\n",
        "print(result[\"output\"])\n",
        "\n"
      ],
      "metadata": {
        "colab": {
          "base_uri": "https://localhost:8080/"
        },
        "id": "GibsTMkYg3Ge",
        "outputId": "2f2d49c6-d0d7-4ec5-fbc7-2a7bc7f3599c"
      },
      "id": "GibsTMkYg3Ge",
      "execution_count": 66,
      "outputs": [
        {
          "output_type": "stream",
          "name": "stdout",
          "text": [
            "router_node: received input = Крутая кофеварка со скидкой 30%\n",
            "routing to CREATIVE\n",
            "CREATIVE NODE RUNNING\n",
            "CREATIVE TEXT: Крутая кофеварка со скидкой 30%! 🔥 Не упусти шанс!\n"
          ]
        }
      ]
    },
    {
      "cell_type": "code",
      "source": [
        "print(result.get(\"output\", \"нет вывода\"))\n"
      ],
      "metadata": {
        "colab": {
          "base_uri": "https://localhost:8080/"
        },
        "id": "BAuwk7oLjUEx",
        "outputId": "8cb6c6db-9a2c-4083-bc79-56639f65265a"
      },
      "id": "BAuwk7oLjUEx",
      "execution_count": 67,
      "outputs": [
        {
          "output_type": "stream",
          "name": "stdout",
          "text": [
            "CREATIVE TEXT: Крутая кофеварка со скидкой 30%! 🔥 Не упусти шанс!\n"
          ]
        }
      ]
    },
    {
      "cell_type": "markdown",
      "source": [
        "#🛠️ Практика\n",
        "Цель: Создать RAG-агента, который:\n",
        "- **Принимает описание продукта.**\n",
        "- **Определяет чувствительность запроса.**\n",
        "- **Генерирует 3 формата текста (email, social, snippet).**\n",
        "- **Использует безопасный шаблон для чувствительных тем.**\n",
        "- **Сохраняет и восстанавливает индекс с помощью persist.**\n",
        "\n",
        "\n",
        "Шаги:\n",
        "\n",
        "1. **Подготовка данных: Соберите 5–10 реальных описаний продуктов и сохраните их в папке data/.**\n",
        "2. **Создание и сохранение индекса:**\n"
      ],
      "metadata": {
        "id": "mkWoDyx100ee"
      },
      "id": "mkWoDyx100ee"
    },
    {
      "cell_type": "code",
      "source": [
        "from llama_index.core import SimpleDirectoryReader, VectorStoreIndex\n",
        "from llama_index.embeddings.openai import OpenAIEmbedding\n",
        "\n",
        "documents = SimpleDirectoryReader(\"data\").load_data()\n",
        "embed_model = OpenAIEmbedding(model=\"text-embedding-3-small\")\n",
        "index = VectorStoreIndex.from_documents(documents, embed_model=embed_model)\n",
        "index.storage_context.persist(persist_dir=\"./index_store\")\n"
      ],
      "metadata": {
        "id": "qeljA_Gs2sHB"
      },
      "id": "qeljA_Gs2sHB",
      "execution_count": 68,
      "outputs": []
    },
    {
      "cell_type": "markdown",
      "source": [
        "3. **Загрузка индекса:**"
      ],
      "metadata": {
        "id": "OKRkH4JN23EW"
      },
      "id": "OKRkH4JN23EW"
    },
    {
      "cell_type": "code",
      "source": [
        "# TODO: Загрузи индекс из хранилища и создай query engine\n",
        "storage_context = StorageContext.from_defaults(persist_dir=\"./index_store\")\n",
        "index = load_index_from_storage(storage_context)\n",
        "query_engine = index.as_query_engine()"
      ],
      "metadata": {
        "id": "62NSd8wK3AuX"
      },
      "id": "62NSd8wK3AuX",
      "execution_count": 70,
      "outputs": []
    },
    {
      "cell_type": "markdown",
      "source": [
        "4. **Фильтрация чувствительных запросов:**\n"
      ],
      "metadata": {
        "id": "m0RWshcn3FY0"
      },
      "id": "m0RWshcn3FY0"
    },
    {
      "cell_type": "code",
      "source": [
        "def is_sensitive(text):\n",
        "    sensitive_keywords = [\"цена\", \"скидка\", \"деньги\", \"карта\"]\n",
        "    return any(keyword in text.lower() for keyword in sensitive_keywords)\n"
      ],
      "metadata": {
        "id": "BRc9apCu3KGs"
      },
      "id": "BRc9apCu3KGs",
      "execution_count": 71,
      "outputs": []
    },
    {
      "cell_type": "markdown",
      "source": [
        "5. **Шаблоны генерации:**"
      ],
      "metadata": {
        "id": "0XBabu8b3GP4"
      },
      "id": "0XBabu8b3GP4"
    },
    {
      "cell_type": "code",
      "source": [
        "safe_template = \"Описание продукта: {description}. Узнайте больше на нашем сайте.\"\n",
        "creative_template = \"Представляем {description}! Не упустите шанс — посетите наш сайт прямо сейчас!\"\n"
      ],
      "metadata": {
        "id": "bSGKgFno3K0b"
      },
      "id": "bSGKgFno3K0b",
      "execution_count": 72,
      "outputs": []
    },
    {
      "cell_type": "markdown",
      "source": [
        "6. **Генерация текстов:**\n"
      ],
      "metadata": {
        "id": "1DHL_67Y3HDN"
      },
      "id": "1DHL_67Y3HDN"
    },
    {
      "cell_type": "code",
      "source": [
        "def generate_copy(description):\n",
        "    template = safe_template if is_sensitive(description) else creative_template\n",
        "    email = template.format(description=description)\n",
        "    social = f\"{description} — подробнее на сайте! #новинка #скидка\"\n",
        "    snippet = f\"{description} — узнайте больше.\"\n",
        "    return {\"email\": email, \"social\": social, \"snippet\": snippet}\n"
      ],
      "metadata": {
        "id": "Tu8ifnHj3Lk3"
      },
      "id": "Tu8ifnHj3Lk3",
      "execution_count": 73,
      "outputs": []
    },
    {
      "cell_type": "markdown",
      "source": [
        "7. **Генерация текстов:**"
      ],
      "metadata": {
        "id": "SoVIzcPl4B3P"
      },
      "id": "SoVIzcPl4B3P"
    },
    {
      "cell_type": "code",
      "source": [
        "test_description = \"Новый смартфон с отличной камерой и скидкой 20%\"\n",
        "copies = generate_copy(test_description)\n",
        "for format, text in copies.items():\n",
        "    print(f\"{format.capitalize()}:\\n{text}\\n\")\n"
      ],
      "metadata": {
        "colab": {
          "base_uri": "https://localhost:8080/"
        },
        "id": "vTFhGFMa4Kn_",
        "outputId": "8ac2d327-86cb-4502-eecb-66b74bee3b19"
      },
      "id": "vTFhGFMa4Kn_",
      "execution_count": 74,
      "outputs": [
        {
          "output_type": "stream",
          "name": "stdout",
          "text": [
            "Email:\n",
            "Представляем Новый смартфон с отличной камерой и скидкой 20%! Не упустите шанс — посетите наш сайт прямо сейчас!\n",
            "\n",
            "Social:\n",
            "Новый смартфон с отличной камерой и скидкой 20% — подробнее на сайте! #новинка #скидка\n",
            "\n",
            "Snippet:\n",
            "Новый смартфон с отличной камерой и скидкой 20% — узнайте больше.\n",
            "\n"
          ]
        }
      ]
    },
    {
      "cell_type": "markdown",
      "source": [],
      "metadata": {
        "id": "5CvKSmft0sXw"
      },
      "id": "5CvKSmft0sXw"
    }
  ],
  "metadata": {
    "kernelspec": {
      "display_name": "Python 3",
      "language": "python",
      "name": "python3"
    },
    "language_info": {
      "name": "python"
    },
    "colab": {
      "provenance": [],
      "include_colab_link": true
    }
  },
  "nbformat": 4,
  "nbformat_minor": 5
}