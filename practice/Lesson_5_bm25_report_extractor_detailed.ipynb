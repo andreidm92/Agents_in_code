{
  "cells": [
    {
      "cell_type": "markdown",
      "metadata": {
        "id": "view-in-github",
        "colab_type": "text"
      },
      "source": [
        "<a href=\"https://colab.research.google.com/github/andreidm92/Agents_in_code/blob/main/practice/Lesson_5_bm25_report_extractor_detailed.ipynb\" target=\"_parent\"><img src=\"https://colab.research.google.com/assets/colab-badge.svg\" alt=\"Open In Colab\"/></a>"
      ]
    },
    {
      "cell_type": "markdown",
      "id": "837c2521",
      "metadata": {
        "id": "837c2521"
      },
      "source": [
        "\n",
        "## 🧠 Теория: Поиск по документам с помощью BM25 в LlamaIndex\n",
        "\n",
        "### Зачем нужен BM25Retriever?\n",
        "\n",
        "В LlamaIndex чаще всего используют **векторный поиск** (через эмбеддинги), но есть и **лексический подход** — **BM25**.  \n",
        "Этот метод не требует внешних моделей и отлично подходит для:\n",
        "- финансовых или юридических документов;\n",
        "- точного поиска по терминам (например, \"операционные расходы\").\n",
        "\n",
        "BM25 — классическая формула из информационного поиска. Она оценивает релевантность документа на основе:\n",
        "- частоты ключевого слова в документе;\n",
        "- длины документа;\n",
        "- количества документов, где встречается это слово.\n",
        "\n",
        "### Сравнение с векторным поиском\n",
        "| Характеристика        | Векторный поиск              | BM25 (лексический)             |\n",
        "|------------------------|------------------------------|-------------------------------|\n",
        "| Основа                 | Семантика (значение)         | Лексика (точные слова)        |\n",
        "| Требует эмбеддинги?    | Да                           | Нет                           |\n",
        "| Подходит для           | Обобщённого смысла           | Точного термина               |\n",
        "| Пример                 | \"чистая прибыль\" ≈ \"net gain\"| \"выручка\" ≠ \"прибыль\"         |\n",
        "\n",
        "### Архитектура LlamaIndex для BM25:\n",
        "1. Загрузить документы `SimpleDirectoryReader`.\n",
        "2. Преобразовать их в индекс (`DocumentSummaryIndex`).\n",
        "3. Подключить `BM25Retriever`.\n",
        "4. Отправлять запросы через `query_engine`.\n",
        "\n",
        "👉 Подходит для задач юристов, аналитиков, бухгалтеров.\n"
      ]
    },
    {
      "cell_type": "code",
      "source": [
        "!pip install llama-index llama-index-retrievers-bm25 llama-index-llms-openai\n"
      ],
      "metadata": {
        "colab": {
          "base_uri": "https://localhost:8080/"
        },
        "id": "hpaX46hD-qjl",
        "outputId": "73f6b911-ccbf-4d9b-fc18-6aaca3894f6e"
      },
      "id": "hpaX46hD-qjl",
      "execution_count": 3,
      "outputs": [
        {
          "output_type": "stream",
          "name": "stdout",
          "text": [
            "Requirement already satisfied: llama-index in /usr/local/lib/python3.11/dist-packages (0.12.37)\n",
            "Requirement already satisfied: llama-index-retrievers-bm25 in /usr/local/lib/python3.11/dist-packages (0.5.2)\n",
            "Requirement already satisfied: llama-index-llms-openai in /usr/local/lib/python3.11/dist-packages (0.3.42)\n",
            "Requirement already satisfied: llama-index-agent-openai<0.5,>=0.4.0 in /usr/local/lib/python3.11/dist-packages (from llama-index) (0.4.7)\n",
            "Requirement already satisfied: llama-index-cli<0.5,>=0.4.1 in /usr/local/lib/python3.11/dist-packages (from llama-index) (0.4.1)\n",
            "Requirement already satisfied: llama-index-core<0.13,>=0.12.36 in /usr/local/lib/python3.11/dist-packages (from llama-index) (0.12.37)\n",
            "Requirement already satisfied: llama-index-embeddings-openai<0.4,>=0.3.0 in /usr/local/lib/python3.11/dist-packages (from llama-index) (0.3.1)\n",
            "Requirement already satisfied: llama-index-indices-managed-llama-cloud>=0.4.0 in /usr/local/lib/python3.11/dist-packages (from llama-index) (0.6.11)\n",
            "Requirement already satisfied: llama-index-multi-modal-llms-openai<0.5,>=0.4.0 in /usr/local/lib/python3.11/dist-packages (from llama-index) (0.4.3)\n",
            "Requirement already satisfied: llama-index-program-openai<0.4,>=0.3.0 in /usr/local/lib/python3.11/dist-packages (from llama-index) (0.3.1)\n",
            "Requirement already satisfied: llama-index-question-gen-openai<0.4,>=0.3.0 in /usr/local/lib/python3.11/dist-packages (from llama-index) (0.3.0)\n",
            "Requirement already satisfied: llama-index-readers-file<0.5,>=0.4.0 in /usr/local/lib/python3.11/dist-packages (from llama-index) (0.4.7)\n",
            "Requirement already satisfied: llama-index-readers-llama-parse>=0.4.0 in /usr/local/lib/python3.11/dist-packages (from llama-index) (0.4.0)\n",
            "Requirement already satisfied: nltk>3.8.1 in /usr/local/lib/python3.11/dist-packages (from llama-index) (3.9.1)\n",
            "Requirement already satisfied: bm25s<0.3.0,>=0.2.0 in /usr/local/lib/python3.11/dist-packages (from llama-index-retrievers-bm25) (0.2.12)\n",
            "Requirement already satisfied: pystemmer<3.0.0.0,>=2.2.0.1 in /usr/local/lib/python3.11/dist-packages (from llama-index-retrievers-bm25) (2.2.0.3)\n",
            "Requirement already satisfied: openai<2,>=1.66.3 in /usr/local/lib/python3.11/dist-packages (from llama-index-llms-openai) (1.78.1)\n",
            "Requirement already satisfied: scipy in /usr/local/lib/python3.11/dist-packages (from bm25s<0.3.0,>=0.2.0->llama-index-retrievers-bm25) (1.15.3)\n",
            "Requirement already satisfied: numpy in /usr/local/lib/python3.11/dist-packages (from bm25s<0.3.0,>=0.2.0->llama-index-retrievers-bm25) (2.0.2)\n",
            "Requirement already satisfied: aiohttp<4,>=3.8.6 in /usr/local/lib/python3.11/dist-packages (from llama-index-core<0.13,>=0.12.36->llama-index) (3.11.15)\n",
            "Requirement already satisfied: aiosqlite in /usr/local/lib/python3.11/dist-packages (from llama-index-core<0.13,>=0.12.36->llama-index) (0.21.0)\n",
            "Requirement already satisfied: banks<3,>=2.0.0 in /usr/local/lib/python3.11/dist-packages (from llama-index-core<0.13,>=0.12.36->llama-index) (2.1.2)\n",
            "Requirement already satisfied: dataclasses-json in /usr/local/lib/python3.11/dist-packages (from llama-index-core<0.13,>=0.12.36->llama-index) (0.6.7)\n",
            "Requirement already satisfied: deprecated>=1.2.9.3 in /usr/local/lib/python3.11/dist-packages (from llama-index-core<0.13,>=0.12.36->llama-index) (1.2.18)\n",
            "Requirement already satisfied: dirtyjson<2,>=1.0.8 in /usr/local/lib/python3.11/dist-packages (from llama-index-core<0.13,>=0.12.36->llama-index) (1.0.8)\n",
            "Requirement already satisfied: filetype<2,>=1.2.0 in /usr/local/lib/python3.11/dist-packages (from llama-index-core<0.13,>=0.12.36->llama-index) (1.2.0)\n",
            "Requirement already satisfied: fsspec>=2023.5.0 in /usr/local/lib/python3.11/dist-packages (from llama-index-core<0.13,>=0.12.36->llama-index) (2025.3.2)\n",
            "Requirement already satisfied: httpx in /usr/local/lib/python3.11/dist-packages (from llama-index-core<0.13,>=0.12.36->llama-index) (0.28.1)\n",
            "Requirement already satisfied: nest-asyncio<2,>=1.5.8 in /usr/local/lib/python3.11/dist-packages (from llama-index-core<0.13,>=0.12.36->llama-index) (1.6.0)\n",
            "Requirement already satisfied: networkx>=3.0 in /usr/local/lib/python3.11/dist-packages (from llama-index-core<0.13,>=0.12.36->llama-index) (3.4.2)\n",
            "Requirement already satisfied: pillow>=9.0.0 in /usr/local/lib/python3.11/dist-packages (from llama-index-core<0.13,>=0.12.36->llama-index) (11.2.1)\n",
            "Requirement already satisfied: pydantic>=2.8.0 in /usr/local/lib/python3.11/dist-packages (from llama-index-core<0.13,>=0.12.36->llama-index) (2.11.4)\n",
            "Requirement already satisfied: pyyaml>=6.0.1 in /usr/local/lib/python3.11/dist-packages (from llama-index-core<0.13,>=0.12.36->llama-index) (6.0.2)\n",
            "Requirement already satisfied: requests>=2.31.0 in /usr/local/lib/python3.11/dist-packages (from llama-index-core<0.13,>=0.12.36->llama-index) (2.32.3)\n",
            "Requirement already satisfied: sqlalchemy>=1.4.49 in /usr/local/lib/python3.11/dist-packages (from sqlalchemy[asyncio]>=1.4.49->llama-index-core<0.13,>=0.12.36->llama-index) (2.0.40)\n",
            "Requirement already satisfied: tenacity!=8.4.0,<10.0.0,>=8.2.0 in /usr/local/lib/python3.11/dist-packages (from llama-index-core<0.13,>=0.12.36->llama-index) (9.1.2)\n",
            "Requirement already satisfied: tiktoken>=0.7.0 in /usr/local/lib/python3.11/dist-packages (from llama-index-core<0.13,>=0.12.36->llama-index) (0.9.0)\n",
            "Requirement already satisfied: tqdm<5,>=4.66.1 in /usr/local/lib/python3.11/dist-packages (from llama-index-core<0.13,>=0.12.36->llama-index) (4.67.1)\n",
            "Requirement already satisfied: typing-extensions>=4.5.0 in /usr/local/lib/python3.11/dist-packages (from llama-index-core<0.13,>=0.12.36->llama-index) (4.13.2)\n",
            "Requirement already satisfied: typing-inspect>=0.8.0 in /usr/local/lib/python3.11/dist-packages (from llama-index-core<0.13,>=0.12.36->llama-index) (0.9.0)\n",
            "Requirement already satisfied: wrapt in /usr/local/lib/python3.11/dist-packages (from llama-index-core<0.13,>=0.12.36->llama-index) (1.17.2)\n",
            "Requirement already satisfied: llama-cloud<0.2.0,>=0.1.13 in /usr/local/lib/python3.11/dist-packages (from llama-index-indices-managed-llama-cloud>=0.4.0->llama-index) (0.1.19)\n",
            "Requirement already satisfied: beautifulsoup4<5.0.0,>=4.12.3 in /usr/local/lib/python3.11/dist-packages (from llama-index-readers-file<0.5,>=0.4.0->llama-index) (4.13.4)\n",
            "Requirement already satisfied: pandas in /usr/local/lib/python3.11/dist-packages (from llama-index-readers-file<0.5,>=0.4.0->llama-index) (2.2.2)\n",
            "Requirement already satisfied: pypdf<6.0.0,>=5.1.0 in /usr/local/lib/python3.11/dist-packages (from llama-index-readers-file<0.5,>=0.4.0->llama-index) (5.5.0)\n",
            "Requirement already satisfied: striprtf<0.0.27,>=0.0.26 in /usr/local/lib/python3.11/dist-packages (from llama-index-readers-file<0.5,>=0.4.0->llama-index) (0.0.26)\n",
            "Requirement already satisfied: llama-parse>=0.5.0 in /usr/local/lib/python3.11/dist-packages (from llama-index-readers-llama-parse>=0.4.0->llama-index) (0.6.22)\n",
            "Requirement already satisfied: click in /usr/local/lib/python3.11/dist-packages (from nltk>3.8.1->llama-index) (8.2.0)\n",
            "Requirement already satisfied: joblib in /usr/local/lib/python3.11/dist-packages (from nltk>3.8.1->llama-index) (1.5.0)\n",
            "Requirement already satisfied: regex>=2021.8.3 in /usr/local/lib/python3.11/dist-packages (from nltk>3.8.1->llama-index) (2024.11.6)\n",
            "Requirement already satisfied: anyio<5,>=3.5.0 in /usr/local/lib/python3.11/dist-packages (from openai<2,>=1.66.3->llama-index-llms-openai) (4.9.0)\n",
            "Requirement already satisfied: distro<2,>=1.7.0 in /usr/local/lib/python3.11/dist-packages (from openai<2,>=1.66.3->llama-index-llms-openai) (1.9.0)\n",
            "Requirement already satisfied: jiter<1,>=0.4.0 in /usr/local/lib/python3.11/dist-packages (from openai<2,>=1.66.3->llama-index-llms-openai) (0.9.0)\n",
            "Requirement already satisfied: sniffio in /usr/local/lib/python3.11/dist-packages (from openai<2,>=1.66.3->llama-index-llms-openai) (1.3.1)\n",
            "Requirement already satisfied: aiohappyeyeballs>=2.3.0 in /usr/local/lib/python3.11/dist-packages (from aiohttp<4,>=3.8.6->llama-index-core<0.13,>=0.12.36->llama-index) (2.6.1)\n",
            "Requirement already satisfied: aiosignal>=1.1.2 in /usr/local/lib/python3.11/dist-packages (from aiohttp<4,>=3.8.6->llama-index-core<0.13,>=0.12.36->llama-index) (1.3.2)\n",
            "Requirement already satisfied: attrs>=17.3.0 in /usr/local/lib/python3.11/dist-packages (from aiohttp<4,>=3.8.6->llama-index-core<0.13,>=0.12.36->llama-index) (25.3.0)\n",
            "Requirement already satisfied: frozenlist>=1.1.1 in /usr/local/lib/python3.11/dist-packages (from aiohttp<4,>=3.8.6->llama-index-core<0.13,>=0.12.36->llama-index) (1.6.0)\n",
            "Requirement already satisfied: multidict<7.0,>=4.5 in /usr/local/lib/python3.11/dist-packages (from aiohttp<4,>=3.8.6->llama-index-core<0.13,>=0.12.36->llama-index) (6.4.3)\n",
            "Requirement already satisfied: propcache>=0.2.0 in /usr/local/lib/python3.11/dist-packages (from aiohttp<4,>=3.8.6->llama-index-core<0.13,>=0.12.36->llama-index) (0.3.1)\n",
            "Requirement already satisfied: yarl<2.0,>=1.17.0 in /usr/local/lib/python3.11/dist-packages (from aiohttp<4,>=3.8.6->llama-index-core<0.13,>=0.12.36->llama-index) (1.20.0)\n",
            "Requirement already satisfied: idna>=2.8 in /usr/local/lib/python3.11/dist-packages (from anyio<5,>=3.5.0->openai<2,>=1.66.3->llama-index-llms-openai) (3.10)\n",
            "Requirement already satisfied: griffe in /usr/local/lib/python3.11/dist-packages (from banks<3,>=2.0.0->llama-index-core<0.13,>=0.12.36->llama-index) (1.7.3)\n",
            "Requirement already satisfied: jinja2 in /usr/local/lib/python3.11/dist-packages (from banks<3,>=2.0.0->llama-index-core<0.13,>=0.12.36->llama-index) (3.1.6)\n",
            "Requirement already satisfied: platformdirs in /usr/local/lib/python3.11/dist-packages (from banks<3,>=2.0.0->llama-index-core<0.13,>=0.12.36->llama-index) (4.3.8)\n",
            "Requirement already satisfied: soupsieve>1.2 in /usr/local/lib/python3.11/dist-packages (from beautifulsoup4<5.0.0,>=4.12.3->llama-index-readers-file<0.5,>=0.4.0->llama-index) (2.7)\n",
            "Requirement already satisfied: certifi in /usr/local/lib/python3.11/dist-packages (from httpx->llama-index-core<0.13,>=0.12.36->llama-index) (2025.4.26)\n",
            "Requirement already satisfied: httpcore==1.* in /usr/local/lib/python3.11/dist-packages (from httpx->llama-index-core<0.13,>=0.12.36->llama-index) (1.0.9)\n",
            "Requirement already satisfied: h11>=0.16 in /usr/local/lib/python3.11/dist-packages (from httpcore==1.*->httpx->llama-index-core<0.13,>=0.12.36->llama-index) (0.16.0)\n",
            "Requirement already satisfied: llama-cloud-services>=0.6.22 in /usr/local/lib/python3.11/dist-packages (from llama-parse>=0.5.0->llama-index-readers-llama-parse>=0.4.0->llama-index) (0.6.22)\n",
            "Requirement already satisfied: annotated-types>=0.6.0 in /usr/local/lib/python3.11/dist-packages (from pydantic>=2.8.0->llama-index-core<0.13,>=0.12.36->llama-index) (0.7.0)\n",
            "Requirement already satisfied: pydantic-core==2.33.2 in /usr/local/lib/python3.11/dist-packages (from pydantic>=2.8.0->llama-index-core<0.13,>=0.12.36->llama-index) (2.33.2)\n",
            "Requirement already satisfied: typing-inspection>=0.4.0 in /usr/local/lib/python3.11/dist-packages (from pydantic>=2.8.0->llama-index-core<0.13,>=0.12.36->llama-index) (0.4.0)\n",
            "Requirement already satisfied: charset-normalizer<4,>=2 in /usr/local/lib/python3.11/dist-packages (from requests>=2.31.0->llama-index-core<0.13,>=0.12.36->llama-index) (3.4.2)\n",
            "Requirement already satisfied: urllib3<3,>=1.21.1 in /usr/local/lib/python3.11/dist-packages (from requests>=2.31.0->llama-index-core<0.13,>=0.12.36->llama-index) (2.4.0)\n",
            "Requirement already satisfied: greenlet>=1 in /usr/local/lib/python3.11/dist-packages (from sqlalchemy>=1.4.49->sqlalchemy[asyncio]>=1.4.49->llama-index-core<0.13,>=0.12.36->llama-index) (3.2.2)\n",
            "Requirement already satisfied: mypy-extensions>=0.3.0 in /usr/local/lib/python3.11/dist-packages (from typing-inspect>=0.8.0->llama-index-core<0.13,>=0.12.36->llama-index) (1.1.0)\n",
            "Requirement already satisfied: marshmallow<4.0.0,>=3.18.0 in /usr/local/lib/python3.11/dist-packages (from dataclasses-json->llama-index-core<0.13,>=0.12.36->llama-index) (3.26.1)\n",
            "Requirement already satisfied: python-dateutil>=2.8.2 in /usr/local/lib/python3.11/dist-packages (from pandas->llama-index-readers-file<0.5,>=0.4.0->llama-index) (2.9.0.post0)\n",
            "Requirement already satisfied: pytz>=2020.1 in /usr/local/lib/python3.11/dist-packages (from pandas->llama-index-readers-file<0.5,>=0.4.0->llama-index) (2025.2)\n",
            "Requirement already satisfied: tzdata>=2022.7 in /usr/local/lib/python3.11/dist-packages (from pandas->llama-index-readers-file<0.5,>=0.4.0->llama-index) (2025.2)\n",
            "Requirement already satisfied: python-dotenv<2.0.0,>=1.0.1 in /usr/local/lib/python3.11/dist-packages (from llama-cloud-services>=0.6.22->llama-parse>=0.5.0->llama-index-readers-llama-parse>=0.4.0->llama-index) (1.1.0)\n",
            "Requirement already satisfied: packaging>=17.0 in /usr/local/lib/python3.11/dist-packages (from marshmallow<4.0.0,>=3.18.0->dataclasses-json->llama-index-core<0.13,>=0.12.36->llama-index) (24.2)\n",
            "Requirement already satisfied: six>=1.5 in /usr/local/lib/python3.11/dist-packages (from python-dateutil>=2.8.2->pandas->llama-index-readers-file<0.5,>=0.4.0->llama-index) (1.17.0)\n",
            "Requirement already satisfied: colorama>=0.4 in /usr/local/lib/python3.11/dist-packages (from griffe->banks<3,>=2.0.0->llama-index-core<0.13,>=0.12.36->llama-index) (0.4.6)\n",
            "Requirement already satisfied: MarkupSafe>=2.0 in /usr/local/lib/python3.11/dist-packages (from jinja2->banks<3,>=2.0.0->llama-index-core<0.13,>=0.12.36->llama-index) (3.0.2)\n"
          ]
        }
      ]
    },
    {
      "cell_type": "code",
      "execution_count": 11,
      "id": "bd0162ea",
      "metadata": {
        "id": "bd0162ea"
      },
      "outputs": [],
      "source": [
        "# 📦 Импорты\n",
        "from llama_index.core import SimpleDirectoryReader, DocumentSummaryIndex\n",
        "from llama_index.retrievers.bm25 import BM25Retriever\n",
        "from llama_index.llms.openai import OpenAI\n",
        "from llama_index.core.node_parser import SentenceSplitter\n",
        "from llama_index.core.response.notebook_utils import display_source_node\n",
        "import os, getpass\n",
        "\n"
      ]
    },
    {
      "cell_type": "code",
      "source": [
        "os.environ[\"OPENAI_API_KEY\"] = getpass.getpass(\"Вставь OpenAI API ключ: \")"
      ],
      "metadata": {
        "colab": {
          "base_uri": "https://localhost:8080/"
        },
        "id": "pKiho4SCRt1e",
        "outputId": "70da4d3d-1596-4ee9-bd93-92c81fe243d4"
      },
      "id": "pKiho4SCRt1e",
      "execution_count": 6,
      "outputs": [
        {
          "name": "stdout",
          "output_type": "stream",
          "text": [
            "Вставь OpenAI API ключ: ··········\n"
          ]
        }
      ]
    },
    {
      "cell_type": "code",
      "execution_count": 12,
      "id": "c7c604c7",
      "metadata": {
        "colab": {
          "base_uri": "https://localhost:8080/"
        },
        "id": "c7c604c7",
        "outputId": "800f50df-8255-4a36-b03c-7d6ae067d4a8"
      },
      "outputs": [
        {
          "output_type": "stream",
          "name": "stdout",
          "text": [
            "Загружено документов: 84\n",
            "Пример содержимого: UNITED STATES SECURITIES AND EXCHANGE COMMISSION\n",
            "Washington, D.C. 20549\n",
            " _____________________________________________________________________\n",
            "FORM 10-K\n",
            " _____________________________________________________________________\n",
            "(Mark One)\n",
            "☒ ANNUAL REPORT PURSUANT TO SECTION 13 OR 15(d) OF THE SECURITIES EXCHANGE ACT OF 1934\n",
            "For the fiscal year ended December 31, 2024\n",
            "OR\n",
            "☐ TRANSITION REPORT PURSUANT TO SECTION 13 OR 15(d) OF THE SECURITIES EXCHANGE ACT OF 1934\n",
            "For the transition period from          \n"
          ]
        }
      ],
      "source": [
        "# 📂 Шаг 1. Загрузка документов\n",
        "reader = SimpleDirectoryReader(\"data\")\n",
        "docs = reader.load_data()\n",
        "\n",
        "\n",
        "print(f\"Загружено документов: {len(docs)}\")\n",
        "print(\"Пример содержимого:\", docs[0].text[:500])"
      ]
    },
    {
      "cell_type": "markdown",
      "source": [
        "### Разделение документов на узлы"
      ],
      "metadata": {
        "id": "X7NxK9cQURr0"
      },
      "id": "X7NxK9cQURr0"
    },
    {
      "cell_type": "code",
      "source": [
        "splitter = SentenceSplitter(chunk_size=1024)\n",
        "nodes = splitter.get_nodes_from_documents(docs)"
      ],
      "metadata": {
        "id": "nz5wkojoUXNf"
      },
      "id": "nz5wkojoUXNf",
      "execution_count": 13,
      "outputs": []
    },
    {
      "cell_type": "markdown",
      "source": [
        "### Создание BM25Retriever:"
      ],
      "metadata": {
        "id": "IQ5d5FUuU45N"
      },
      "id": "IQ5d5FUuU45N"
    },
    {
      "cell_type": "code",
      "source": [
        "retriever = BM25Retriever.from_defaults(nodes=nodes, similarity_top_k=2)\n"
      ],
      "metadata": {
        "colab": {
          "base_uri": "https://localhost:8080/"
        },
        "id": "z6QgM0_8Uw7u",
        "outputId": "1c320934-15a5-410b-dfc1-aa56474623f0"
      },
      "id": "z6QgM0_8Uw7u",
      "execution_count": 14,
      "outputs": [
        {
          "output_type": "stream",
          "name": "stderr",
          "text": [
            "DEBUG:bm25s:Building index from IDs objects\n"
          ]
        }
      ]
    },
    {
      "cell_type": "markdown",
      "source": [
        "Выполнение запроса и отображение результатов:"
      ],
      "metadata": {
        "id": "GNvXlCG2WUPK"
      },
      "id": "GNvXlCG2WUPK"
    },
    {
      "cell_type": "code",
      "source": [
        "query = \"Revenue 2023\"\n",
        "results = retriever.retrieve(query)\n",
        "for node in results:\n",
        "    display_source_node(node)\n"
      ],
      "metadata": {
        "colab": {
          "base_uri": "https://localhost:8080/",
          "height": 180
        },
        "id": "ogcFq-caWV5t",
        "outputId": "709f0701-f346-4cb5-f449-b5886068c202"
      },
      "id": "ogcFq-caWV5t",
      "execution_count": 15,
      "outputs": [
        {
          "output_type": "display_data",
          "data": {
            "text/plain": [
              "<IPython.core.display.Markdown object>"
            ],
            "text/markdown": "**Node ID:** 0ad51a25-d1b6-4d77-a780-2bf88577fbc2<br>**Similarity:** 1.6230618953704834<br>**Text:** Table of Contents\nStreaming Revenues\n    \nWe primarily derive revenues from monthly membership fe...<br>"
          },
          "metadata": {}
        },
        {
          "output_type": "display_data",
          "data": {
            "text/plain": [
              "<IPython.core.display.Markdown object>"
            ],
            "text/markdown": "**Node ID:** f5449edd-9afa-4ad7-8330-59183862e3f1<br>**Similarity:** 1.5545902252197266<br>**Text:** Table of Contents\nLatin America (LATAM)\nAs of/Year Ended December 31, Change\n 2024 2023 2022 2024...<br>"
          },
          "metadata": {}
        }
      ]
    },
    {
      "cell_type": "markdown",
      "source": [
        "1. 🔄 Подключить LLM для генерации ответа по результатам:"
      ],
      "metadata": {
        "id": "5ts3dA7VXE2f"
      },
      "id": "5ts3dA7VXE2f"
    },
    {
      "cell_type": "code",
      "source": [
        "from llama_index.core.query_engine import RetrieverQueryEngine\n",
        "from llama_index.llms.openai import OpenAI\n",
        "\n",
        "query_engine = RetrieverQueryEngine.from_args(retriever, llm=OpenAI())\n",
        "response = query_engine.query(\"What was the revenue in 2023?\")\n",
        "print(response)\n"
      ],
      "metadata": {
        "colab": {
          "base_uri": "https://localhost:8080/"
        },
        "id": "R37klb7lXGLY",
        "outputId": "f4727d8c-76d5-4435-cfd1-54a6d2c47d71"
      },
      "id": "R37klb7lXGLY",
      "execution_count": 16,
      "outputs": [
        {
          "output_type": "stream",
          "name": "stdout",
          "text": [
            "The revenue in 2023 was $33,640,458.\n"
          ]
        }
      ]
    },
    {
      "cell_type": "markdown",
      "source": [
        "🔍 Retrieval ≠ обязательно векторное индексирование\n",
        "\n",
        "Retrieval — это общий механизм \"найди релевантные фрагменты\", а вот:\n",
        "\n",
        "Тип поиска\t      Что используется\t   \n",
        "\n",
        "🔢 Векторный\tСемантическое сходство (через эмбеддинги)\tVectorStoreIndex, Пример в LlamaIndex: FAISS, Chroma, Qdrant\n",
        "\n",
        "🔤 Лексический\tКлючевые слова, Пример в LlamaIndex:TF-IDF, BM25\tBM25Retriever\n",
        "\n",
        "🧩 Структурный\tМетаданные, фильтры, условия\tПример в LlamaIndex: QueryEngine с фильтрами или SQL-like"
      ],
      "metadata": {
        "id": "QwyN4POxYaJd"
      },
      "id": "QwyN4POxYaJd"
    },
    {
      "cell_type": "markdown",
      "source": [
        "📦 Мы используем: retrieval, но не векторный.\n",
        "\n",
        "BM25Retriever — это лексическое индексирование:\n",
        "\n",
        "индексируются ключевые слова (tf-idf)\n",
        "\n",
        "на запрос подбираются \"похожие по словам\" фрагменты"
      ],
      "metadata": {
        "id": "N1Agnh4GY88j"
      },
      "id": "N1Agnh4GY88j"
    },
    {
      "cell_type": "code",
      "execution_count": 14,
      "id": "c287b04d",
      "metadata": {
        "id": "c287b04d"
      },
      "outputs": [],
      "source": []
    },
    {
      "cell_type": "code",
      "execution_count": 14,
      "id": "965e523d",
      "metadata": {
        "id": "965e523d"
      },
      "outputs": [],
      "source": [
        "\n"
      ]
    },
    {
      "cell_type": "markdown",
      "id": "955acbc9",
      "metadata": {
        "id": "955acbc9"
      },
      "source": [
        "\n",
        "## 📘 Пояснение к коду\n",
        "\n",
        "В версии LlamaIndex ≥ 0.12.x DocumentSummaryIndex не интегрируется напрямую с BM25Retriever — потому что BM25Retriever работает по узлам, а DocumentSummaryIndex хранит summary как один большой текстовый узел на каждый документ.\n",
        "\n",
        "📌 Что это значит\n",
        "\n",
        "Если ты хочешь использовать BM25Retriever, то:\n",
        "\n",
        "тебе нужно самому извлечь узлы (например, через SentenceSplitter)\n",
        "\n",
        "и передать их напрямую в BM25Retriever.from_defaults(nodes=...)\n",
        "\n",
        "А DocumentSummaryIndex в этой цепочке не нужен\n",
        "\n",
        "✅ Когда использовать DocumentSummaryIndex\n",
        "\n",
        "Ты используешь DocumentSummaryIndex, если:\n",
        "\n",
        "хочешь получить summary всего документа через OpenAI\n",
        "\n",
        "и потом искать по этим summary, а не по всему содержимому\n",
        "\n",
        "🔹 В этом случае ты используешь .as_query_engine() с OpenAI напрямую (без BM25)."
      ]
    },
    {
      "cell_type": "markdown",
      "source": [
        "### DocumentSummaryIndex + Запрос"
      ],
      "metadata": {
        "id": "hCpEUXCmcGdj"
      },
      "id": "hCpEUXCmcGdj"
    },
    {
      "cell_type": "code",
      "source": [
        "# 🧠 Индексация через DocumentSummaryIndex (по summary на документ)\n",
        "from llama_index.core import DocumentSummaryIndex\n",
        "from llama_index.core.query_engine import RetrieverQueryEngine\n",
        "\n",
        "docsummary_index = DocumentSummaryIndex.from_documents(docs)\n",
        "\n",
        "# 🔌 LLM (можно указать модель, например 'gpt-3.5-turbo')\n",
        "llm = OpenAI(model=\"gpt-3.5-turbo\")\n",
        "\n",
        "# 🔄 Получаем retriever из индекса\n",
        "retriever = docsummary_index.as_retriever()\n",
        "\n",
        "# ⚙️ Собираем Query Engine с LLM\n",
        "query_engine = RetrieverQueryEngine.from_args(retriever=retriever, llm=llm)\n",
        "\n",
        "\n"
      ],
      "metadata": {
        "colab": {
          "base_uri": "https://localhost:8080/"
        },
        "id": "7pCOxVt1cTyM",
        "outputId": "fc12f54d-6619-46f4-be02-08952d1bca1c"
      },
      "id": "7pCOxVt1cTyM",
      "execution_count": 19,
      "outputs": [
        {
          "output_type": "stream",
          "name": "stdout",
          "text": [
            "current doc id: b3d8204f-2ac0-4fd8-ac67-f194b7ad8363\n",
            "current doc id: f8cf5677-d21c-4e90-9a7d-e24e99eac4d6\n",
            "current doc id: 36ec9b70-3c52-4925-8ad7-4ee2004d4548\n",
            "current doc id: f841d29c-ae19-4b5f-983f-2ea84bb29567\n",
            "current doc id: eee19b26-0778-494b-81a0-0332b4ce7b4b\n",
            "current doc id: 8bdc7d53-a78f-4cc7-abf2-c1743b95f90c\n",
            "current doc id: 45f34f29-720b-4e48-8a95-93db470763f5\n",
            "current doc id: d5e50083-8b56-44e5-9b62-c17b5d3bd14f\n",
            "current doc id: abc5e1e9-e5f8-4521-9927-819e4d8a56d3\n",
            "current doc id: f0cda131-c227-4424-9975-a5f9afe1ce9f\n",
            "current doc id: a5f65831-b72d-4d91-9f94-476a280f4c4c\n",
            "current doc id: 13fad522-4e4f-4af9-91d0-553ac5cd7e42\n",
            "current doc id: 7e96d02c-0413-4938-bba1-8febe7bb1231\n",
            "current doc id: 4b932fe6-5f4f-4d13-9b3d-fcc2e6bbb4b8\n",
            "current doc id: e48126cf-7afb-40f4-8a4e-107a47538e2f\n",
            "current doc id: a79f5219-16b2-43be-9091-03da388534fb\n",
            "current doc id: a0cdca05-f46c-403a-b885-48f974f64d34\n",
            "current doc id: 84d54efc-ac6b-4789-b548-fea062535d92\n",
            "current doc id: 6c87572e-e375-4450-9d1b-4196fe2f36f5\n",
            "current doc id: 9dd12507-ba85-4933-89a3-174c42c9dcbf\n",
            "current doc id: 123bfdc5-5213-4b05-9fbe-29626b27bba3\n",
            "current doc id: b0f0a057-79ae-4963-b63c-bd499b9950fa\n",
            "current doc id: a05fe56e-6a64-4f7a-9860-23e2e9574eac\n",
            "current doc id: c22b1e65-8c02-489f-a282-665639dfd9da\n",
            "current doc id: 21e0ebf7-61f5-4949-84c8-42007ee264fc\n",
            "current doc id: 8779a022-3b78-475d-b5d7-61a6bee1cc67\n",
            "current doc id: ee7d8f75-b2f1-4a00-8d31-a2258ba41d8a\n",
            "current doc id: a833df7e-270e-44d2-89b6-b7dec1c4ff68\n",
            "current doc id: cd288e8e-257b-4577-83b5-8e9ee20ed909\n",
            "current doc id: fb563ad6-2932-4fce-b91b-926cd8f523c8\n",
            "current doc id: 836b7629-fc5b-41ce-97fb-c207daa2a68c\n",
            "current doc id: 1d0dc2dd-ded0-4c99-af8c-38c0288aff89\n",
            "current doc id: c72d60da-5a27-499c-b1dd-777fe2a3a8b5\n",
            "current doc id: c7d822e0-fc30-46ff-8444-7cf2c213ff84\n",
            "current doc id: 6e5dfd46-c4dd-4e1d-82f7-1228328566f8\n",
            "current doc id: 837c3584-f31c-4002-890f-1681d1044ee3\n",
            "current doc id: 809139d6-848f-4a02-b4d8-9e2913c47a62\n",
            "current doc id: fa95fb64-964b-4786-a238-5abfe1add461\n",
            "current doc id: fea20f1d-fd81-4732-8878-4026854a4e7b\n",
            "current doc id: ff098f46-d9b0-46a6-950d-7beb85b2b6de\n",
            "current doc id: 3758c00d-613c-4d9a-91c5-794581a52a41\n",
            "current doc id: c21d7485-fdd5-4b4e-ad4a-15deed6b3ff1\n",
            "current doc id: be5f3707-d2b0-4520-9487-94941acf8f30\n",
            "current doc id: c1f4ed62-1974-48f2-8331-663ec25a223a\n",
            "current doc id: 43835cb7-ba5d-46c6-bd2d-7b72a7c84c7a\n",
            "current doc id: 1b2021bd-dea3-4cd0-8ec9-6668db7b461a\n",
            "current doc id: 96bce417-8055-4b5c-82b7-255396118624\n",
            "current doc id: b62f5f95-cb5f-45bf-8626-14df6c50b93a\n",
            "current doc id: ab0fd508-5e71-44d9-88d2-d5e5e627c346\n",
            "current doc id: 2d550524-74ea-4169-87db-90c8965da78b\n",
            "current doc id: 2105e748-dd5b-44da-bfb1-f289bd072fee\n",
            "current doc id: 2a5c9aa5-9e2e-4254-993a-171a63c90e0f\n",
            "current doc id: cf7c62ae-8ce3-4bc1-a67d-8282b6421655\n",
            "current doc id: e66d4a09-ca0b-4f61-adf2-1f51d8541693\n",
            "current doc id: 3a5ae222-c63c-4671-b0de-f6858ce70542\n",
            "current doc id: 5fdcd9f4-4f16-49c5-b85b-0a56a9494111\n",
            "current doc id: f5126fe6-5b4a-4e9a-95a5-5f5c31d2a87c\n",
            "current doc id: a1a1efbb-bb08-4515-9a24-c64dae546229\n",
            "current doc id: a79cc193-1558-4b38-8710-b0c602359d84\n",
            "current doc id: 90d3fd63-ab26-4a30-8559-2228abddfd2b\n",
            "current doc id: f47a1f8e-ff5b-4db2-bba7-8d7352cf94b2\n",
            "current doc id: efe5fd31-11c1-42f5-9602-3985ae86b5b3\n",
            "current doc id: 3c129e79-f794-4a63-98f0-22e74a1286d5\n",
            "current doc id: d762b547-23c0-47bb-b412-3297bdb44bf7\n",
            "current doc id: 9cdd48e0-20a7-46f5-9b88-daabfbd7a9d9\n",
            "current doc id: a900074d-3d34-4b07-8f04-906c13284d77\n",
            "current doc id: ce9ae5da-7ef9-4f1b-a751-7bb39d7b63ac\n",
            "current doc id: 1990fa09-b010-40d7-8e27-960a5b57bf36\n",
            "current doc id: fbc8124d-9077-468e-bc94-1bd73fe769a2\n",
            "current doc id: 140e3d2d-043d-4a5d-864d-504ceb720c26\n",
            "current doc id: 50e98206-9164-477e-b580-2c8dec9f245c\n",
            "current doc id: db4d45a5-61d2-4452-b84b-0865a6ccfa69\n",
            "current doc id: 4604ca0f-68eb-4a1c-8401-78ea3c65d6eb\n",
            "current doc id: 00aa22cf-0efe-4497-821d-9d7d4038a1c0\n",
            "current doc id: f124a1f9-9516-4c8f-b5c0-5a73ada25f95\n",
            "current doc id: c1a6c19a-f7f8-4e73-87e7-4363fa776d9d\n",
            "current doc id: abb18677-0e26-400f-b902-5b3abdda9dda\n",
            "current doc id: 24445b66-0be0-46e7-884b-eb78652c703e\n",
            "current doc id: c79676fd-0b7f-41da-b1a0-bb46df14e2d9\n",
            "current doc id: efb2b679-290e-4c67-98cd-fb8258e64a07\n",
            "current doc id: fb10b260-39be-4c8b-9a0a-8e50d7be1c11\n",
            "current doc id: 6611f511-2293-4e0a-8507-d7302cab9684\n",
            "current doc id: 8a74ff8b-e59a-4ec4-86ff-3e43408985e2\n",
            "current doc id: 607a09cd-a7bf-4e97-b3d2-12a64665b1fb\n",
            "The revenue in 2023 was $33,723,297.\n"
          ]
        }
      ]
    },
    {
      "cell_type": "code",
      "source": [
        "# 🔍 Запрос с генерацией ответа\n",
        "response = query_engine.query(\"Какая была выручка в 2023?\")\n",
        "print(response)"
      ],
      "metadata": {
        "colab": {
          "base_uri": "https://localhost:8080/"
        },
        "id": "rrUvdQHRfxVm",
        "outputId": "f697be38-e440-4a1e-aabd-f1d439111325"
      },
      "id": "rrUvdQHRfxVm",
      "execution_count": 20,
      "outputs": [
        {
          "output_type": "stream",
          "name": "stdout",
          "text": [
            "The revenue in 2023 was $33,723,297.\n"
          ]
        }
      ]
    },
    {
      "cell_type": "markdown",
      "source": [
        "🚫 Когда нет точного ответа:\n",
        "\n",
        "DocumentSummaryIndex индексирует только summary документов, которые:\n",
        "\n",
        "содержат общую информацию (в духе: \"Документ о финансовых результатах\")\n",
        "\n",
        "не гарантируют включения конкретных чисел\n",
        "\n",
        "QueryEngine по умолчанию работает так:\n",
        "\n",
        "ищет наиболее релевантный summary (по ключевым словам)\n",
        "\n",
        "передаёт этот текст в LLM\n",
        "\n",
        "но LLM не делает глубокого анализа PDF — он отвечает только по summary\n",
        "\n",
        "Если LLM не нашёл в summary точной цифры, он:\n",
        "\n",
        "отвечает расплывчато\n",
        "\n",
        "или не отвечает вовсе"
      ],
      "metadata": {
        "id": "oTrV0BjWZfhx"
      },
      "id": "oTrV0BjWZfhx"
    },
    {
      "cell_type": "code",
      "source": [],
      "metadata": {
        "id": "B8wqjiPkWADl"
      },
      "id": "B8wqjiPkWADl",
      "execution_count": null,
      "outputs": []
    }
  ],
  "metadata": {
    "colab": {
      "provenance": [],
      "include_colab_link": true
    },
    "language_info": {
      "name": "python"
    },
    "kernelspec": {
      "name": "python3",
      "display_name": "Python 3"
    }
  },
  "nbformat": 4,
  "nbformat_minor": 5
}